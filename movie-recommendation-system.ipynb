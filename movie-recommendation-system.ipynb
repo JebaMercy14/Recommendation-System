{
 "cells": [
  {
   "cell_type": "markdown",
   "id": "1bb0ea65",
   "metadata": {
    "papermill": {
     "duration": 0.030827,
     "end_time": "2023-11-12T12:45:29.997863",
     "exception": false,
     "start_time": "2023-11-12T12:45:29.967036",
     "status": "completed"
    },
    "tags": []
   },
   "source": [
    "# Movie Recommendation System"
   ]
  },
  {
   "cell_type": "code",
   "execution_count": null,
   "id": "ad98d64f",
   "metadata": {
    "papermill": {
     "duration": 0.025945,
     "end_time": "2023-11-12T12:45:30.050870",
     "exception": false,
     "start_time": "2023-11-12T12:45:30.024925",
     "status": "completed"
    },
    "tags": []
   },
   "outputs": [],
   "source": []
  },
  {
   "cell_type": "markdown",
   "id": "cdd5aacf",
   "metadata": {
    "papermill": {
     "duration": 0.027006,
     "end_time": "2023-11-12T12:45:30.104914",
     "exception": false,
     "start_time": "2023-11-12T12:45:30.077908",
     "status": "completed"
    },
    "tags": []
   },
   "source": [
    "#### Hi! Choosing a movie is a real struggle for many of us :) So most of the streaming platforms have inbuilt recommendation systems. These systems aim to predict user's interests and recommend items that they'll probably like. Throughout this notebook, we will try to use 2 clustering methods to build our own movie recommender.\n",
    "\n",
    "#### We are going to use three following data sets:\n",
    "[Netflix TV Shows and Movies](https://www.kaggle.com/datasets/victorsoeiro/netflix-tv-shows-and-movies?datasetId=2178661&sortBy=voteCount)  \n",
    "[HBO Max TV Shows and Movies](https://www.kaggle.com/datasets/victorsoeiro/hbo-max-tv-shows-and-movies?select=titles.csv)  \n",
    "[Amazon Prime TV Shows and Movies](https://www.kaggle.com/datasets/victorsoeiro/amazon-prime-tv-shows-and-movies?select=titles.csv)  "
   ]
  },
  {
   "cell_type": "markdown",
   "id": "8f380063",
   "metadata": {
    "papermill": {
     "duration": 0.025809,
     "end_time": "2023-11-12T12:45:30.157252",
     "exception": false,
     "start_time": "2023-11-12T12:45:30.131443",
     "status": "completed"
    },
    "tags": []
   },
   "source": [
    "# Table of Contents\n",
    "\n",
    "* [Data and Library Imports](#1)\n",
    "* [Exploratory Data Analysis](#2)\n",
    "* [Feature Engineering](#3)\n",
    "* [K-Means Model](#4)\n",
    "* [DBSCAN 10D model](#5)\n",
    "* [Movie Recommendation Function](#6)"
   ]
  },
  {
   "cell_type": "markdown",
   "id": "8487e3f7",
   "metadata": {
    "papermill": {
     "duration": 0.026006,
     "end_time": "2023-11-12T12:45:30.209430",
     "exception": false,
     "start_time": "2023-11-12T12:45:30.183424",
     "status": "completed"
    },
    "tags": []
   },
   "source": [
    "<a id=\"1\"></a> <br>\n",
    "# Data and Library Imports"
   ]
  },
  {
   "cell_type": "markdown",
   "id": "935202df",
   "metadata": {
    "papermill": {
     "duration": 0.027636,
     "end_time": "2023-11-12T12:45:30.263325",
     "exception": false,
     "start_time": "2023-11-12T12:45:30.235689",
     "status": "completed"
    },
    "tags": []
   },
   "source": [
    "### Library Imports"
   ]
  },
  {
   "cell_type": "code",
   "execution_count": 1,
   "id": "a9fe0951",
   "metadata": {
    "execution": {
     "iopub.execute_input": "2023-11-12T12:45:30.318863Z",
     "iopub.status.busy": "2023-11-12T12:45:30.318079Z",
     "iopub.status.idle": "2023-11-12T12:45:31.998115Z",
     "shell.execute_reply": "2023-11-12T12:45:31.996896Z"
    },
    "papermill": {
     "duration": 1.711576,
     "end_time": "2023-11-12T12:45:32.001424",
     "exception": false,
     "start_time": "2023-11-12T12:45:30.289848",
     "status": "completed"
    },
    "tags": []
   },
   "outputs": [],
   "source": [
    "import pandas as pd\n",
    "import numpy as np\n",
    "%precision %.4f\n",
    "\n",
    "import warnings\n",
    "warnings.filterwarnings('ignore')\n",
    "\n",
    "# visualisation\n",
    "import seaborn as sns\n",
    "sns.set(style=\"whitegrid\")\n",
    "from matplotlib import pyplot as plt\n",
    "%matplotlib inline\n",
    "import missingno as msno\n",
    "\n",
    "# sklearn\n",
    "from sklearn.cluster import KMeans,DBSCAN\n",
    "from sklearn.decomposition import PCA\n",
    "from sklearn.metrics import silhouette_samples, silhouette_score\n",
    "from sklearn.preprocessing import OneHotEncoder, MinMaxScaler"
   ]
  },
  {
   "cell_type": "markdown",
   "id": "e7f5d6de",
   "metadata": {
    "papermill": {
     "duration": 0.0265,
     "end_time": "2023-11-12T12:45:32.054139",
     "exception": false,
     "start_time": "2023-11-12T12:45:32.027639",
     "status": "completed"
    },
    "tags": []
   },
   "source": [
    "### Data imports"
   ]
  },
  {
   "cell_type": "code",
   "execution_count": 2,
   "id": "eaea0d7c",
   "metadata": {
    "execution": {
     "iopub.execute_input": "2023-11-12T12:45:32.111183Z",
     "iopub.status.busy": "2023-11-12T12:45:32.110748Z",
     "iopub.status.idle": "2023-11-12T12:45:32.410886Z",
     "shell.execute_reply": "2023-11-12T12:45:32.409634Z"
    },
    "papermill": {
     "duration": 0.333065,
     "end_time": "2023-11-12T12:45:32.414067",
     "exception": false,
     "start_time": "2023-11-12T12:45:32.081002",
     "status": "completed"
    },
    "tags": []
   },
   "outputs": [],
   "source": [
    "df_netflix = pd.read_csv('/kaggle/input/netflix-tv-shows-and-movies/titles.csv')\n",
    "df_amazon =  pd.read_csv('/kaggle/input/amazon-prime-tv-shows-and-movies/titles.csv')\n",
    "df_hbo =  pd.read_csv('/kaggle/input/hbo-max-tv-shows-and-movies/titles.csv')"
   ]
  },
  {
   "cell_type": "code",
   "execution_count": 3,
   "id": "066a9246",
   "metadata": {
    "execution": {
     "iopub.execute_input": "2023-11-12T12:45:32.468487Z",
     "iopub.status.busy": "2023-11-12T12:45:32.468015Z",
     "iopub.status.idle": "2023-11-12T12:45:32.490379Z",
     "shell.execute_reply": "2023-11-12T12:45:32.489320Z"
    },
    "papermill": {
     "duration": 0.052975,
     "end_time": "2023-11-12T12:45:32.493103",
     "exception": false,
     "start_time": "2023-11-12T12:45:32.440128",
     "status": "completed"
    },
    "tags": []
   },
   "outputs": [],
   "source": [
    "df = pd.concat([df_netflix, df_amazon, df_hbo], axis=0)"
   ]
  },
  {
   "cell_type": "code",
   "execution_count": 4,
   "id": "9b41ae39",
   "metadata": {
    "execution": {
     "iopub.execute_input": "2023-11-12T12:45:32.549046Z",
     "iopub.status.busy": "2023-11-12T12:45:32.548243Z",
     "iopub.status.idle": "2023-11-12T12:45:32.627363Z",
     "shell.execute_reply": "2023-11-12T12:45:32.625273Z"
    },
    "papermill": {
     "duration": 0.111573,
     "end_time": "2023-11-12T12:45:32.631961",
     "exception": false,
     "start_time": "2023-11-12T12:45:32.520388",
     "status": "completed"
    },
    "tags": []
   },
   "outputs": [],
   "source": [
    "df_movies = df.drop_duplicates()"
   ]
  },
  {
   "cell_type": "markdown",
   "id": "a86f26dc",
   "metadata": {
    "papermill": {
     "duration": 0.02652,
     "end_time": "2023-11-12T12:45:32.684938",
     "exception": false,
     "start_time": "2023-11-12T12:45:32.658418",
     "status": "completed"
    },
    "tags": []
   },
   "source": [
    "<a id=\"2\"></a> <br>\n",
    "# Exploratory Data Analysis"
   ]
  },
  {
   "cell_type": "markdown",
   "id": "554210c9",
   "metadata": {
    "papermill": {
     "duration": 0.027394,
     "end_time": "2023-11-12T12:45:32.738460",
     "exception": false,
     "start_time": "2023-11-12T12:45:32.711066",
     "status": "completed"
    },
    "tags": []
   },
   "source": [
    "#### As the introduction to the data, let's take a look at the first 5 rows and the main characteristics of the dataset.\n"
   ]
  },
  {
   "cell_type": "code",
   "execution_count": 5,
   "id": "0eb4de25",
   "metadata": {
    "execution": {
     "iopub.execute_input": "2023-11-12T12:45:32.795662Z",
     "iopub.status.busy": "2023-11-12T12:45:32.794726Z",
     "iopub.status.idle": "2023-11-12T12:45:32.826602Z",
     "shell.execute_reply": "2023-11-12T12:45:32.825375Z"
    },
    "papermill": {
     "duration": 0.064636,
     "end_time": "2023-11-12T12:45:32.830241",
     "exception": false,
     "start_time": "2023-11-12T12:45:32.765605",
     "status": "completed"
    },
    "tags": []
   },
   "outputs": [
    {
     "data": {
      "text/html": [
       "<div>\n",
       "<style scoped>\n",
       "    .dataframe tbody tr th:only-of-type {\n",
       "        vertical-align: middle;\n",
       "    }\n",
       "\n",
       "    .dataframe tbody tr th {\n",
       "        vertical-align: top;\n",
       "    }\n",
       "\n",
       "    .dataframe thead th {\n",
       "        text-align: right;\n",
       "    }\n",
       "</style>\n",
       "<table border=\"1\" class=\"dataframe\">\n",
       "  <thead>\n",
       "    <tr style=\"text-align: right;\">\n",
       "      <th></th>\n",
       "      <th>id</th>\n",
       "      <th>title</th>\n",
       "      <th>type</th>\n",
       "      <th>description</th>\n",
       "      <th>release_year</th>\n",
       "      <th>age_certification</th>\n",
       "      <th>runtime</th>\n",
       "      <th>genres</th>\n",
       "      <th>production_countries</th>\n",
       "      <th>seasons</th>\n",
       "      <th>imdb_id</th>\n",
       "      <th>imdb_score</th>\n",
       "      <th>imdb_votes</th>\n",
       "      <th>tmdb_popularity</th>\n",
       "      <th>tmdb_score</th>\n",
       "    </tr>\n",
       "  </thead>\n",
       "  <tbody>\n",
       "    <tr>\n",
       "      <th>0</th>\n",
       "      <td>ts300399</td>\n",
       "      <td>Five Came Back: The Reference Films</td>\n",
       "      <td>SHOW</td>\n",
       "      <td>This collection includes 12 World War II-era p...</td>\n",
       "      <td>1945</td>\n",
       "      <td>TV-MA</td>\n",
       "      <td>51</td>\n",
       "      <td>['documentation']</td>\n",
       "      <td>['US']</td>\n",
       "      <td>1.0</td>\n",
       "      <td>NaN</td>\n",
       "      <td>NaN</td>\n",
       "      <td>NaN</td>\n",
       "      <td>0.600</td>\n",
       "      <td>NaN</td>\n",
       "    </tr>\n",
       "    <tr>\n",
       "      <th>1</th>\n",
       "      <td>tm84618</td>\n",
       "      <td>Taxi Driver</td>\n",
       "      <td>MOVIE</td>\n",
       "      <td>A mentally unstable Vietnam War veteran works ...</td>\n",
       "      <td>1976</td>\n",
       "      <td>R</td>\n",
       "      <td>114</td>\n",
       "      <td>['drama', 'crime']</td>\n",
       "      <td>['US']</td>\n",
       "      <td>NaN</td>\n",
       "      <td>tt0075314</td>\n",
       "      <td>8.2</td>\n",
       "      <td>808582.0</td>\n",
       "      <td>40.965</td>\n",
       "      <td>8.179</td>\n",
       "    </tr>\n",
       "    <tr>\n",
       "      <th>2</th>\n",
       "      <td>tm154986</td>\n",
       "      <td>Deliverance</td>\n",
       "      <td>MOVIE</td>\n",
       "      <td>Intent on seeing the Cahulawassee River before...</td>\n",
       "      <td>1972</td>\n",
       "      <td>R</td>\n",
       "      <td>109</td>\n",
       "      <td>['drama', 'action', 'thriller', 'european']</td>\n",
       "      <td>['US']</td>\n",
       "      <td>NaN</td>\n",
       "      <td>tt0068473</td>\n",
       "      <td>7.7</td>\n",
       "      <td>107673.0</td>\n",
       "      <td>10.010</td>\n",
       "      <td>7.300</td>\n",
       "    </tr>\n",
       "    <tr>\n",
       "      <th>3</th>\n",
       "      <td>tm127384</td>\n",
       "      <td>Monty Python and the Holy Grail</td>\n",
       "      <td>MOVIE</td>\n",
       "      <td>King Arthur, accompanied by his squire, recrui...</td>\n",
       "      <td>1975</td>\n",
       "      <td>PG</td>\n",
       "      <td>91</td>\n",
       "      <td>['fantasy', 'action', 'comedy']</td>\n",
       "      <td>['GB']</td>\n",
       "      <td>NaN</td>\n",
       "      <td>tt0071853</td>\n",
       "      <td>8.2</td>\n",
       "      <td>534486.0</td>\n",
       "      <td>15.461</td>\n",
       "      <td>7.811</td>\n",
       "    </tr>\n",
       "    <tr>\n",
       "      <th>4</th>\n",
       "      <td>tm120801</td>\n",
       "      <td>The Dirty Dozen</td>\n",
       "      <td>MOVIE</td>\n",
       "      <td>12 American military prisoners in World War II...</td>\n",
       "      <td>1967</td>\n",
       "      <td>NaN</td>\n",
       "      <td>150</td>\n",
       "      <td>['war', 'action']</td>\n",
       "      <td>['GB', 'US']</td>\n",
       "      <td>NaN</td>\n",
       "      <td>tt0061578</td>\n",
       "      <td>7.7</td>\n",
       "      <td>72662.0</td>\n",
       "      <td>20.398</td>\n",
       "      <td>7.600</td>\n",
       "    </tr>\n",
       "  </tbody>\n",
       "</table>\n",
       "</div>"
      ],
      "text/plain": [
       "         id                                title   type  \\\n",
       "0  ts300399  Five Came Back: The Reference Films   SHOW   \n",
       "1   tm84618                          Taxi Driver  MOVIE   \n",
       "2  tm154986                          Deliverance  MOVIE   \n",
       "3  tm127384      Monty Python and the Holy Grail  MOVIE   \n",
       "4  tm120801                      The Dirty Dozen  MOVIE   \n",
       "\n",
       "                                         description  release_year  \\\n",
       "0  This collection includes 12 World War II-era p...          1945   \n",
       "1  A mentally unstable Vietnam War veteran works ...          1976   \n",
       "2  Intent on seeing the Cahulawassee River before...          1972   \n",
       "3  King Arthur, accompanied by his squire, recrui...          1975   \n",
       "4  12 American military prisoners in World War II...          1967   \n",
       "\n",
       "  age_certification  runtime                                       genres  \\\n",
       "0             TV-MA       51                            ['documentation']   \n",
       "1                 R      114                           ['drama', 'crime']   \n",
       "2                 R      109  ['drama', 'action', 'thriller', 'european']   \n",
       "3                PG       91              ['fantasy', 'action', 'comedy']   \n",
       "4               NaN      150                            ['war', 'action']   \n",
       "\n",
       "  production_countries  seasons    imdb_id  imdb_score  imdb_votes  \\\n",
       "0               ['US']      1.0        NaN         NaN         NaN   \n",
       "1               ['US']      NaN  tt0075314         8.2    808582.0   \n",
       "2               ['US']      NaN  tt0068473         7.7    107673.0   \n",
       "3               ['GB']      NaN  tt0071853         8.2    534486.0   \n",
       "4         ['GB', 'US']      NaN  tt0061578         7.7     72662.0   \n",
       "\n",
       "   tmdb_popularity  tmdb_score  \n",
       "0            0.600         NaN  \n",
       "1           40.965       8.179  \n",
       "2           10.010       7.300  \n",
       "3           15.461       7.811  \n",
       "4           20.398       7.600  "
      ]
     },
     "execution_count": 5,
     "metadata": {},
     "output_type": "execute_result"
    }
   ],
   "source": [
    "df_movies.head()"
   ]
  },
  {
   "cell_type": "code",
   "execution_count": 6,
   "id": "6ccac77f",
   "metadata": {
    "execution": {
     "iopub.execute_input": "2023-11-12T12:45:32.887667Z",
     "iopub.status.busy": "2023-11-12T12:45:32.887223Z",
     "iopub.status.idle": "2023-11-12T12:45:32.940396Z",
     "shell.execute_reply": "2023-11-12T12:45:32.939097Z"
    },
    "papermill": {
     "duration": 0.084734,
     "end_time": "2023-11-12T12:45:32.943678",
     "exception": false,
     "start_time": "2023-11-12T12:45:32.858944",
     "status": "completed"
    },
    "tags": []
   },
   "outputs": [
    {
     "data": {
      "text/html": [
       "<div>\n",
       "<style scoped>\n",
       "    .dataframe tbody tr th:only-of-type {\n",
       "        vertical-align: middle;\n",
       "    }\n",
       "\n",
       "    .dataframe tbody tr th {\n",
       "        vertical-align: top;\n",
       "    }\n",
       "\n",
       "    .dataframe thead th {\n",
       "        text-align: right;\n",
       "    }\n",
       "</style>\n",
       "<table border=\"1\" class=\"dataframe\">\n",
       "  <thead>\n",
       "    <tr style=\"text-align: right;\">\n",
       "      <th></th>\n",
       "      <th>release_year</th>\n",
       "      <th>runtime</th>\n",
       "      <th>seasons</th>\n",
       "      <th>imdb_score</th>\n",
       "      <th>imdb_votes</th>\n",
       "      <th>tmdb_popularity</th>\n",
       "      <th>tmdb_score</th>\n",
       "    </tr>\n",
       "  </thead>\n",
       "  <tbody>\n",
       "    <tr>\n",
       "      <th>count</th>\n",
       "      <td>18980.000000</td>\n",
       "      <td>18980.000000</td>\n",
       "      <td>4208.000000</td>\n",
       "      <td>17107.000000</td>\n",
       "      <td>1.707000e+04</td>\n",
       "      <td>18310.000000</td>\n",
       "      <td>16324.000000</td>\n",
       "    </tr>\n",
       "    <tr>\n",
       "      <th>mean</th>\n",
       "      <td>2005.993678</td>\n",
       "      <td>82.325922</td>\n",
       "      <td>2.511882</td>\n",
       "      <td>6.297030</td>\n",
       "      <td>2.274446e+04</td>\n",
       "      <td>14.382219</td>\n",
       "      <td>6.429386</td>\n",
       "    </tr>\n",
       "    <tr>\n",
       "      <th>std</th>\n",
       "      <td>22.427074</td>\n",
       "      <td>36.388000</td>\n",
       "      <td>3.414945</td>\n",
       "      <td>1.293704</td>\n",
       "      <td>9.804167e+04</td>\n",
       "      <td>63.474620</td>\n",
       "      <td>1.400020</td>\n",
       "    </tr>\n",
       "    <tr>\n",
       "      <th>min</th>\n",
       "      <td>1901.000000</td>\n",
       "      <td>0.000000</td>\n",
       "      <td>1.000000</td>\n",
       "      <td>1.100000</td>\n",
       "      <td>5.000000e+00</td>\n",
       "      <td>0.000011</td>\n",
       "      <td>0.500000</td>\n",
       "    </tr>\n",
       "    <tr>\n",
       "      <th>25%</th>\n",
       "      <td>2004.000000</td>\n",
       "      <td>56.000000</td>\n",
       "      <td>1.000000</td>\n",
       "      <td>5.500000</td>\n",
       "      <td>2.090000e+02</td>\n",
       "      <td>1.721000</td>\n",
       "      <td>5.700000</td>\n",
       "    </tr>\n",
       "    <tr>\n",
       "      <th>50%</th>\n",
       "      <td>2016.000000</td>\n",
       "      <td>88.000000</td>\n",
       "      <td>1.000000</td>\n",
       "      <td>6.400000</td>\n",
       "      <td>1.116500e+03</td>\n",
       "      <td>4.034000</td>\n",
       "      <td>6.500000</td>\n",
       "    </tr>\n",
       "    <tr>\n",
       "      <th>75%</th>\n",
       "      <td>2019.000000</td>\n",
       "      <td>104.000000</td>\n",
       "      <td>3.000000</td>\n",
       "      <td>7.200000</td>\n",
       "      <td>6.876000e+03</td>\n",
       "      <td>10.584500</td>\n",
       "      <td>7.300000</td>\n",
       "    </tr>\n",
       "    <tr>\n",
       "      <th>max</th>\n",
       "      <td>2022.000000</td>\n",
       "      <td>549.000000</td>\n",
       "      <td>52.000000</td>\n",
       "      <td>9.900000</td>\n",
       "      <td>2.555504e+06</td>\n",
       "      <td>4447.894000</td>\n",
       "      <td>10.000000</td>\n",
       "    </tr>\n",
       "  </tbody>\n",
       "</table>\n",
       "</div>"
      ],
      "text/plain": [
       "       release_year       runtime      seasons    imdb_score    imdb_votes  \\\n",
       "count  18980.000000  18980.000000  4208.000000  17107.000000  1.707000e+04   \n",
       "mean    2005.993678     82.325922     2.511882      6.297030  2.274446e+04   \n",
       "std       22.427074     36.388000     3.414945      1.293704  9.804167e+04   \n",
       "min     1901.000000      0.000000     1.000000      1.100000  5.000000e+00   \n",
       "25%     2004.000000     56.000000     1.000000      5.500000  2.090000e+02   \n",
       "50%     2016.000000     88.000000     1.000000      6.400000  1.116500e+03   \n",
       "75%     2019.000000    104.000000     3.000000      7.200000  6.876000e+03   \n",
       "max     2022.000000    549.000000    52.000000      9.900000  2.555504e+06   \n",
       "\n",
       "       tmdb_popularity    tmdb_score  \n",
       "count     18310.000000  16324.000000  \n",
       "mean         14.382219      6.429386  \n",
       "std          63.474620      1.400020  \n",
       "min           0.000011      0.500000  \n",
       "25%           1.721000      5.700000  \n",
       "50%           4.034000      6.500000  \n",
       "75%          10.584500      7.300000  \n",
       "max        4447.894000     10.000000  "
      ]
     },
     "execution_count": 6,
     "metadata": {},
     "output_type": "execute_result"
    }
   ],
   "source": [
    "df_movies.describe()"
   ]
  },
  {
   "cell_type": "code",
   "execution_count": 7,
   "id": "b71882ba",
   "metadata": {
    "execution": {
     "iopub.execute_input": "2023-11-12T12:45:33.000013Z",
     "iopub.status.busy": "2023-11-12T12:45:32.999601Z",
     "iopub.status.idle": "2023-11-12T12:45:33.039581Z",
     "shell.execute_reply": "2023-11-12T12:45:33.036401Z"
    },
    "papermill": {
     "duration": 0.071186,
     "end_time": "2023-11-12T12:45:33.042515",
     "exception": false,
     "start_time": "2023-11-12T12:45:32.971329",
     "status": "completed"
    },
    "tags": []
   },
   "outputs": [
    {
     "name": "stdout",
     "output_type": "stream",
     "text": [
      "<class 'pandas.core.frame.DataFrame'>\n",
      "Int64Index: 18980 entries, 0 to 3293\n",
      "Data columns (total 15 columns):\n",
      " #   Column                Non-Null Count  Dtype  \n",
      "---  ------                --------------  -----  \n",
      " 0   id                    18980 non-null  object \n",
      " 1   title                 18979 non-null  object \n",
      " 2   type                  18980 non-null  object \n",
      " 3   description           18831 non-null  object \n",
      " 4   release_year          18980 non-null  int64  \n",
      " 5   age_certification     8684 non-null   object \n",
      " 6   runtime               18980 non-null  int64  \n",
      " 7   genres                18980 non-null  object \n",
      " 8   production_countries  18980 non-null  object \n",
      " 9   seasons               4208 non-null   float64\n",
      " 10  imdb_id               17586 non-null  object \n",
      " 11  imdb_score            17107 non-null  float64\n",
      " 12  imdb_votes            17070 non-null  float64\n",
      " 13  tmdb_popularity       18310 non-null  float64\n",
      " 14  tmdb_score            16324 non-null  float64\n",
      "dtypes: float64(5), int64(2), object(8)\n",
      "memory usage: 2.3+ MB\n"
     ]
    }
   ],
   "source": [
    "df_movies.info()"
   ]
  },
  {
   "cell_type": "markdown",
   "id": "c143fc1c",
   "metadata": {
    "papermill": {
     "duration": 0.026773,
     "end_time": "2023-11-12T12:45:33.096722",
     "exception": false,
     "start_time": "2023-11-12T12:45:33.069949",
     "status": "completed"
    },
    "tags": []
   },
   "source": [
    "#### We can already notice that some of the variables are missing data. Let's count the number of null and missing rows."
   ]
  },
  {
   "cell_type": "code",
   "execution_count": 8,
   "id": "1359465c",
   "metadata": {
    "execution": {
     "iopub.execute_input": "2023-11-12T12:45:33.153281Z",
     "iopub.status.busy": "2023-11-12T12:45:33.152815Z",
     "iopub.status.idle": "2023-11-12T12:45:33.182675Z",
     "shell.execute_reply": "2023-11-12T12:45:33.181303Z"
    },
    "papermill": {
     "duration": 0.061607,
     "end_time": "2023-11-12T12:45:33.185723",
     "exception": false,
     "start_time": "2023-11-12T12:45:33.124116",
     "status": "completed"
    },
    "tags": []
   },
   "outputs": [
    {
     "data": {
      "text/plain": [
       "id                          0\n",
       "title                       1\n",
       "type                        0\n",
       "description               149\n",
       "release_year                0\n",
       "age_certification       10296\n",
       "runtime                     0\n",
       "genres                      0\n",
       "production_countries        0\n",
       "seasons                 14772\n",
       "imdb_id                  1394\n",
       "imdb_score               1873\n",
       "imdb_votes               1910\n",
       "tmdb_popularity           670\n",
       "tmdb_score               2656\n",
       "dtype: int64"
      ]
     },
     "execution_count": 8,
     "metadata": {},
     "output_type": "execute_result"
    }
   ],
   "source": [
    "df_movies.isna().sum()"
   ]
  },
  {
   "cell_type": "markdown",
   "id": "a4d6fa66",
   "metadata": {
    "papermill": {
     "duration": 0.026885,
     "end_time": "2023-11-12T12:45:33.240170",
     "exception": false,
     "start_time": "2023-11-12T12:45:33.213285",
     "status": "completed"
    },
    "tags": []
   },
   "source": [
    "#### Let's visualize missing data, as it's always gives better understanding of the picture."
   ]
  },
  {
   "cell_type": "code",
   "execution_count": 9,
   "id": "4ae4ee78",
   "metadata": {
    "execution": {
     "iopub.execute_input": "2023-11-12T12:45:33.298310Z",
     "iopub.status.busy": "2023-11-12T12:45:33.297297Z",
     "iopub.status.idle": "2023-11-12T12:45:33.847313Z",
     "shell.execute_reply": "2023-11-12T12:45:33.845641Z"
    },
    "papermill": {
     "duration": 0.581845,
     "end_time": "2023-11-12T12:45:33.850612",
     "exception": false,
     "start_time": "2023-11-12T12:45:33.268767",
     "status": "completed"
    },
    "tags": []
   },
   "outputs": [
    {
     "data": {
      "text/plain": [
       "Text(0.5, 1.0, 'Distribution of Missing Values')"
      ]
     },
     "execution_count": 9,
     "metadata": {},
     "output_type": "execute_result"
    },
    {
     "data": {
      "image/png": "[encoded data removed]",
      "text/plain": [
       "<Figure size 1080x432 with 1 Axes>"
      ]
     },
     "metadata": {
      "needs_background": "light"
     },
     "output_type": "display_data"
    }
   ],
   "source": [
    "msno.matrix(df_movies, figsize=(15,6), fontsize=12, sparkline=False, color=(0.5, 0.1, 0.3))\n",
    "plt.title('Distribution of Missing Values', fontsize=18)"
   ]
  },
  {
   "cell_type": "markdown",
   "id": "3ac278bb",
   "metadata": {
    "papermill": {
     "duration": 0.028111,
     "end_time": "2023-11-12T12:45:33.909597",
     "exception": false,
     "start_time": "2023-11-12T12:45:33.881486",
     "status": "completed"
    },
    "tags": []
   },
   "source": [
    "#### As we see, couple of variables have big gaps here.  \n",
    "#### We're going to take a closer look at some of the variables."
   ]
  },
  {
   "cell_type": "markdown",
   "id": "7c825a67",
   "metadata": {
    "papermill": {
     "duration": 0.028794,
     "end_time": "2023-11-12T12:45:33.967461",
     "exception": false,
     "start_time": "2023-11-12T12:45:33.938667",
     "status": "completed"
    },
    "tags": []
   },
   "source": [
    "### #1 type"
   ]
  },
  {
   "cell_type": "code",
   "execution_count": 10,
   "id": "5a2c6c05",
   "metadata": {
    "execution": {
     "iopub.execute_input": "2023-11-12T12:45:34.029735Z",
     "iopub.status.busy": "2023-11-12T12:45:34.029293Z",
     "iopub.status.idle": "2023-11-12T12:45:34.042690Z",
     "shell.execute_reply": "2023-11-12T12:45:34.041315Z"
    },
    "papermill": {
     "duration": 0.047478,
     "end_time": "2023-11-12T12:45:34.045554",
     "exception": false,
     "start_time": "2023-11-12T12:45:33.998076",
     "status": "completed"
    },
    "tags": []
   },
   "outputs": [
    {
     "data": {
      "text/plain": [
       "MOVIE    14772\n",
       "SHOW      4208\n",
       "Name: type, dtype: int64"
      ]
     },
     "execution_count": 10,
     "metadata": {},
     "output_type": "execute_result"
    }
   ],
   "source": [
    "df_movies.type.value_counts()"
   ]
  },
  {
   "cell_type": "code",
   "execution_count": 11,
   "id": "1df61fff",
   "metadata": {
    "execution": {
     "iopub.execute_input": "2023-11-12T12:45:34.105589Z",
     "iopub.status.busy": "2023-11-12T12:45:34.105133Z",
     "iopub.status.idle": "2023-11-12T12:45:34.236958Z",
     "shell.execute_reply": "2023-11-12T12:45:34.235028Z"
    },
    "papermill": {
     "duration": 0.16761,
     "end_time": "2023-11-12T12:45:34.242134",
     "exception": false,
     "start_time": "2023-11-12T12:45:34.074524",
     "status": "completed"
    },
    "tags": []
   },
   "outputs": [
    {
     "data": {
      "image/png": "[encoded data removed]",
      "text/plain": [
       "<Figure size 720x432 with 1 Axes>"
      ]
     },
     "metadata": {},
     "output_type": "display_data"
    }
   ],
   "source": [
    "plt.figure(figsize=(10,6))\n",
    "plt.title('Movies and TV series Parts', fontsize=18)\n",
    "plt.pie(df_movies.type.value_counts(), \n",
    "        labels=['Movie', 'Show'],\n",
    "        textprops={\"fontsize\":16},\n",
    "        radius=1.1, startangle=90,\n",
    "        colors=['#af0055', '#D05C9C'],\n",
    "        autopct='%.0f%%')\n",
    "plt.show()"
   ]
  },
  {
   "cell_type": "markdown",
   "id": "fe16fb31",
   "metadata": {
    "papermill": {
     "duration": 0.039149,
     "end_time": "2023-11-12T12:45:34.367079",
     "exception": false,
     "start_time": "2023-11-12T12:45:34.327930",
     "status": "completed"
    },
    "tags": []
   },
   "source": [
    "### #2 description"
   ]
  },
  {
   "cell_type": "code",
   "execution_count": 12,
   "id": "9a2aa42a",
   "metadata": {
    "execution": {
     "iopub.execute_input": "2023-11-12T12:45:34.430854Z",
     "iopub.status.busy": "2023-11-12T12:45:34.430398Z",
     "iopub.status.idle": "2023-11-12T12:45:34.813748Z",
     "shell.execute_reply": "2023-11-12T12:45:34.812074Z"
    },
    "papermill": {
     "duration": 0.420392,
     "end_time": "2023-11-12T12:45:34.817727",
     "exception": false,
     "start_time": "2023-11-12T12:45:34.397335",
     "status": "completed"
    },
    "tags": []
   },
   "outputs": [],
   "source": [
    "from wordcloud import WordCloud\n",
    "descriptions = (pd.DataFrame(df_movies.description.dropna())).reset_index()\n",
    "mas = []\n",
    "for i in range(5832):\n",
    "  w = descriptions.description[i]\n",
    "  ww = w.split()\n",
    "  mas.append(ww)\n",
    "\n",
    "data = []\n",
    "for i in mas:\n",
    "    for j in range(len(i)):\n",
    "        data.append(i[j].lower())\n",
    "        \n",
    "big_string=''\n",
    "for i in range(len(data)):\n",
    "    big_string+=(data[i]+' ')"
   ]
  },
  {
   "cell_type": "code",
   "execution_count": 13,
   "id": "62e6bc6f",
   "metadata": {
    "execution": {
     "iopub.execute_input": "2023-11-12T12:45:34.883632Z",
     "iopub.status.busy": "2023-11-12T12:45:34.883097Z",
     "iopub.status.idle": "2023-11-12T12:45:37.325948Z",
     "shell.execute_reply": "2023-11-12T12:45:37.324519Z"
    },
    "papermill": {
     "duration": 2.482553,
     "end_time": "2023-11-12T12:45:37.331847",
     "exception": false,
     "start_time": "2023-11-12T12:45:34.849294",
     "status": "completed"
    },
    "tags": []
   },
   "outputs": [
    {
     "data": {
      "text/plain": [
       "<matplotlib.image.AxesImage at 0x78bcb5ea29d0>"
      ]
     },
     "execution_count": 13,
     "metadata": {},
     "output_type": "execute_result"
    },
    {
     "data": {
      "image/png": "[encoded data removed]",
      "text/plain": [
       "<Figure size 720x432 with 1 Axes>"
      ]
     },
     "metadata": {
      "needs_background": "light"
     },
     "output_type": "display_data"
    }
   ],
   "source": [
    "from wordcloud import WordCloud\n",
    "wordCloud = WordCloud(width = 1000, height = 600, random_state=1, colormap='PuRd', background_color='white', collocations=False).generate(big_string)\n",
    "\n",
    "plt.figure(figsize=(10,6))\n",
    "plt.imshow(wordCloud)"
   ]
  },
  {
   "cell_type": "markdown",
   "id": "1c1bdd3d",
   "metadata": {
    "papermill": {
     "duration": 0.034623,
     "end_time": "2023-11-12T12:45:37.401195",
     "exception": false,
     "start_time": "2023-11-12T12:45:37.366572",
     "status": "completed"
    },
    "tags": []
   },
   "source": [
    "#### An interesting variable that could be useful for a future model.\n",
    "#### However, its processing seems rather complicated (at least, for my current knowledge level), so we'll continue without it."
   ]
  },
  {
   "cell_type": "code",
   "execution_count": 14,
   "id": "262509da",
   "metadata": {
    "execution": {
     "iopub.execute_input": "2023-11-12T12:45:37.472571Z",
     "iopub.status.busy": "2023-11-12T12:45:37.472078Z",
     "iopub.status.idle": "2023-11-12T12:45:37.481743Z",
     "shell.execute_reply": "2023-11-12T12:45:37.480480Z"
    },
    "papermill": {
     "duration": 0.048754,
     "end_time": "2023-11-12T12:45:37.484722",
     "exception": false,
     "start_time": "2023-11-12T12:45:37.435968",
     "status": "completed"
    },
    "tags": []
   },
   "outputs": [],
   "source": [
    "df_movies.drop('description', axis=1, inplace=True)"
   ]
  },
  {
   "cell_type": "markdown",
   "id": "ace4cc3a",
   "metadata": {
    "papermill": {
     "duration": 0.0361,
     "end_time": "2023-11-12T12:45:37.555979",
     "exception": false,
     "start_time": "2023-11-12T12:45:37.519879",
     "status": "completed"
    },
    "tags": []
   },
   "source": [
    "### #3 release_year"
   ]
  },
  {
   "cell_type": "code",
   "execution_count": 15,
   "id": "205145d6",
   "metadata": {
    "execution": {
     "iopub.execute_input": "2023-11-12T12:45:37.628154Z",
     "iopub.status.busy": "2023-11-12T12:45:37.627700Z",
     "iopub.status.idle": "2023-11-12T12:45:38.389902Z",
     "shell.execute_reply": "2023-11-12T12:45:38.388633Z"
    },
    "papermill": {
     "duration": 0.801167,
     "end_time": "2023-11-12T12:45:38.392795",
     "exception": false,
     "start_time": "2023-11-12T12:45:37.591628",
     "status": "completed"
    },
    "tags": []
   },
   "outputs": [
    {
     "data": {
      "image/png": "[encoded data removed]",
      "text/plain": [
       "<Figure size 1080x432 with 1 Axes>"
      ]
     },
     "metadata": {
      "needs_background": "light"
     },
     "output_type": "display_data"
    }
   ],
   "source": [
    "plt.figure(figsize=(15,6))\n",
    "plt.title('\\nAmount of Movies per Year\\n', fontsize=18)\n",
    "sns.countplot(df_movies[df_movies.release_year>1980].release_year, palette='PuRd')\n",
    "plt.xticks(rotation=90)\n",
    "plt.xlabel(\"Year\")\n",
    "plt.ylabel(\"Movie Count\")\n",
    "plt.show()"
   ]
  },
  {
   "cell_type": "markdown",
   "id": "d72f1141",
   "metadata": {
    "papermill": {
     "duration": 0.035724,
     "end_time": "2023-11-12T12:45:38.463719",
     "exception": false,
     "start_time": "2023-11-12T12:45:38.427995",
     "status": "completed"
    },
    "tags": []
   },
   "source": [
    "#### Amount of the movies increased tremendeouly since even 2010!"
   ]
  },
  {
   "cell_type": "markdown",
   "id": "49ccfef9",
   "metadata": {
    "papermill": {
     "duration": 0.034913,
     "end_time": "2023-11-12T12:45:38.534699",
     "exception": false,
     "start_time": "2023-11-12T12:45:38.499786",
     "status": "completed"
    },
    "tags": []
   },
   "source": [
    "### #4 age_certification"
   ]
  },
  {
   "cell_type": "code",
   "execution_count": 16,
   "id": "c11649ce",
   "metadata": {
    "execution": {
     "iopub.execute_input": "2023-11-12T12:45:38.607225Z",
     "iopub.status.busy": "2023-11-12T12:45:38.606763Z",
     "iopub.status.idle": "2023-11-12T12:45:38.619601Z",
     "shell.execute_reply": "2023-11-12T12:45:38.617838Z"
    },
    "papermill": {
     "duration": 0.052922,
     "end_time": "2023-11-12T12:45:38.622700",
     "exception": false,
     "start_time": "2023-11-12T12:45:38.569778",
     "status": "completed"
    },
    "tags": []
   },
   "outputs": [
    {
     "name": "stdout",
     "output_type": "stream",
     "text": [
      "NaN values in age certification variable: 10296\n",
      "This is 54 % of all the values\n"
     ]
    }
   ],
   "source": [
    "print('NaN values in age certification variable:', df_movies.age_certification.isna().sum())\n",
    "print('This is', round(df_movies.age_certification.isna().sum()/df_movies.age_certification.shape[0]*100),'% of all the values')"
   ]
  },
  {
   "cell_type": "markdown",
   "id": "4a902cbf",
   "metadata": {
    "papermill": {
     "duration": 0.035282,
     "end_time": "2023-11-12T12:45:38.693867",
     "exception": false,
     "start_time": "2023-11-12T12:45:38.658585",
     "status": "completed"
    },
    "tags": []
   },
   "source": [
    "#### This variable contains too many undefined values, which cannot be filled in at the moment, so it was decided to drop it."
   ]
  },
  {
   "cell_type": "code",
   "execution_count": 17,
   "id": "f06e4af6",
   "metadata": {
    "execution": {
     "iopub.execute_input": "2023-11-12T12:45:38.769777Z",
     "iopub.status.busy": "2023-11-12T12:45:38.768877Z",
     "iopub.status.idle": "2023-11-12T12:45:38.778877Z",
     "shell.execute_reply": "2023-11-12T12:45:38.777701Z"
    },
    "papermill": {
     "duration": 0.05141,
     "end_time": "2023-11-12T12:45:38.781637",
     "exception": false,
     "start_time": "2023-11-12T12:45:38.730227",
     "status": "completed"
    },
    "tags": []
   },
   "outputs": [],
   "source": [
    "df_movies.drop('age_certification', axis=1, inplace=True)"
   ]
  },
  {
   "cell_type": "markdown",
   "id": "a510ecbb",
   "metadata": {
    "papermill": {
     "duration": 0.034824,
     "end_time": "2023-11-12T12:45:38.852703",
     "exception": false,
     "start_time": "2023-11-12T12:45:38.817879",
     "status": "completed"
    },
    "tags": []
   },
   "source": [
    "### #5,6 production_countries and genres"
   ]
  },
  {
   "cell_type": "markdown",
   "id": "fca8123a",
   "metadata": {
    "papermill": {
     "duration": 0.035306,
     "end_time": "2023-11-12T12:45:38.923937",
     "exception": false,
     "start_time": "2023-11-12T12:45:38.888631",
     "status": "completed"
    },
    "tags": []
   },
   "source": [
    "#### These two variables are represented as lists.\n",
    "\n",
    "#### Therefore, before working with them, the lists must be \"unpacked\" to strings. We'll also get a single \"top\" category of a list."
   ]
  },
  {
   "cell_type": "code",
   "execution_count": 18,
   "id": "ad1257d6",
   "metadata": {
    "execution": {
     "iopub.execute_input": "2023-11-12T12:45:38.997564Z",
     "iopub.status.busy": "2023-11-12T12:45:38.997118Z",
     "iopub.status.idle": "2023-11-12T12:45:39.019853Z",
     "shell.execute_reply": "2023-11-12T12:45:39.018896Z"
    },
    "papermill": {
     "duration": 0.062111,
     "end_time": "2023-11-12T12:45:39.022537",
     "exception": false,
     "start_time": "2023-11-12T12:45:38.960426",
     "status": "completed"
    },
    "tags": []
   },
   "outputs": [
    {
     "data": {
      "text/html": [
       "<div>\n",
       "<style scoped>\n",
       "    .dataframe tbody tr th:only-of-type {\n",
       "        vertical-align: middle;\n",
       "    }\n",
       "\n",
       "    .dataframe tbody tr th {\n",
       "        vertical-align: top;\n",
       "    }\n",
       "\n",
       "    .dataframe thead th {\n",
       "        text-align: right;\n",
       "    }\n",
       "</style>\n",
       "<table border=\"1\" class=\"dataframe\">\n",
       "  <thead>\n",
       "    <tr style=\"text-align: right;\">\n",
       "      <th></th>\n",
       "      <th>id</th>\n",
       "      <th>title</th>\n",
       "      <th>type</th>\n",
       "      <th>release_year</th>\n",
       "      <th>runtime</th>\n",
       "      <th>genres</th>\n",
       "      <th>production_countries</th>\n",
       "      <th>seasons</th>\n",
       "      <th>imdb_id</th>\n",
       "      <th>imdb_score</th>\n",
       "      <th>imdb_votes</th>\n",
       "      <th>tmdb_popularity</th>\n",
       "      <th>tmdb_score</th>\n",
       "    </tr>\n",
       "  </thead>\n",
       "  <tbody>\n",
       "    <tr>\n",
       "      <th>0</th>\n",
       "      <td>ts300399</td>\n",
       "      <td>Five Came Back: The Reference Films</td>\n",
       "      <td>SHOW</td>\n",
       "      <td>1945</td>\n",
       "      <td>51</td>\n",
       "      <td>['documentation']</td>\n",
       "      <td>['US']</td>\n",
       "      <td>1.0</td>\n",
       "      <td>NaN</td>\n",
       "      <td>NaN</td>\n",
       "      <td>NaN</td>\n",
       "      <td>0.600</td>\n",
       "      <td>NaN</td>\n",
       "    </tr>\n",
       "    <tr>\n",
       "      <th>1</th>\n",
       "      <td>tm84618</td>\n",
       "      <td>Taxi Driver</td>\n",
       "      <td>MOVIE</td>\n",
       "      <td>1976</td>\n",
       "      <td>114</td>\n",
       "      <td>['drama', 'crime']</td>\n",
       "      <td>['US']</td>\n",
       "      <td>NaN</td>\n",
       "      <td>tt0075314</td>\n",
       "      <td>8.2</td>\n",
       "      <td>808582.0</td>\n",
       "      <td>40.965</td>\n",
       "      <td>8.179</td>\n",
       "    </tr>\n",
       "    <tr>\n",
       "      <th>2</th>\n",
       "      <td>tm154986</td>\n",
       "      <td>Deliverance</td>\n",
       "      <td>MOVIE</td>\n",
       "      <td>1972</td>\n",
       "      <td>109</td>\n",
       "      <td>['drama', 'action', 'thriller', 'european']</td>\n",
       "      <td>['US']</td>\n",
       "      <td>NaN</td>\n",
       "      <td>tt0068473</td>\n",
       "      <td>7.7</td>\n",
       "      <td>107673.0</td>\n",
       "      <td>10.010</td>\n",
       "      <td>7.300</td>\n",
       "    </tr>\n",
       "    <tr>\n",
       "      <th>3</th>\n",
       "      <td>tm127384</td>\n",
       "      <td>Monty Python and the Holy Grail</td>\n",
       "      <td>MOVIE</td>\n",
       "      <td>1975</td>\n",
       "      <td>91</td>\n",
       "      <td>['fantasy', 'action', 'comedy']</td>\n",
       "      <td>['GB']</td>\n",
       "      <td>NaN</td>\n",
       "      <td>tt0071853</td>\n",
       "      <td>8.2</td>\n",
       "      <td>534486.0</td>\n",
       "      <td>15.461</td>\n",
       "      <td>7.811</td>\n",
       "    </tr>\n",
       "    <tr>\n",
       "      <th>4</th>\n",
       "      <td>tm120801</td>\n",
       "      <td>The Dirty Dozen</td>\n",
       "      <td>MOVIE</td>\n",
       "      <td>1967</td>\n",
       "      <td>150</td>\n",
       "      <td>['war', 'action']</td>\n",
       "      <td>['GB', 'US']</td>\n",
       "      <td>NaN</td>\n",
       "      <td>tt0061578</td>\n",
       "      <td>7.7</td>\n",
       "      <td>72662.0</td>\n",
       "      <td>20.398</td>\n",
       "      <td>7.600</td>\n",
       "    </tr>\n",
       "  </tbody>\n",
       "</table>\n",
       "</div>"
      ],
      "text/plain": [
       "         id                                title   type  release_year  \\\n",
       "0  ts300399  Five Came Back: The Reference Films   SHOW          1945   \n",
       "1   tm84618                          Taxi Driver  MOVIE          1976   \n",
       "2  tm154986                          Deliverance  MOVIE          1972   \n",
       "3  tm127384      Monty Python and the Holy Grail  MOVIE          1975   \n",
       "4  tm120801                      The Dirty Dozen  MOVIE          1967   \n",
       "\n",
       "   runtime                                       genres production_countries  \\\n",
       "0       51                            ['documentation']               ['US']   \n",
       "1      114                           ['drama', 'crime']               ['US']   \n",
       "2      109  ['drama', 'action', 'thriller', 'european']               ['US']   \n",
       "3       91              ['fantasy', 'action', 'comedy']               ['GB']   \n",
       "4      150                            ['war', 'action']         ['GB', 'US']   \n",
       "\n",
       "   seasons    imdb_id  imdb_score  imdb_votes  tmdb_popularity  tmdb_score  \n",
       "0      1.0        NaN         NaN         NaN            0.600         NaN  \n",
       "1      NaN  tt0075314         8.2    808582.0           40.965       8.179  \n",
       "2      NaN  tt0068473         7.7    107673.0           10.010       7.300  \n",
       "3      NaN  tt0071853         8.2    534486.0           15.461       7.811  \n",
       "4      NaN  tt0061578         7.7     72662.0           20.398       7.600  "
      ]
     },
     "execution_count": 18,
     "metadata": {},
     "output_type": "execute_result"
    }
   ],
   "source": [
    "df_movies.head()"
   ]
  },
  {
   "cell_type": "code",
   "execution_count": 19,
   "id": "6b369757",
   "metadata": {
    "execution": {
     "iopub.execute_input": "2023-11-12T12:45:39.098657Z",
     "iopub.status.busy": "2023-11-12T12:45:39.098174Z",
     "iopub.status.idle": "2023-11-12T12:45:39.377198Z",
     "shell.execute_reply": "2023-11-12T12:45:39.375805Z"
    },
    "papermill": {
     "duration": 0.32082,
     "end_time": "2023-11-12T12:45:39.380241",
     "exception": false,
     "start_time": "2023-11-12T12:45:39.059421",
     "status": "completed"
    },
    "tags": []
   },
   "outputs": [],
   "source": [
    "df_movies['production_countries'] = df_movies['production_countries'].str.replace(r\"[\", '').str.replace(r\"'\", '').str.replace(r\"]\", '')\n",
    "df_movies['lead_prod_country'] = df_movies['production_countries'].str.split(',').str[0]\n",
    "\n",
    "# Let's also add a number of countries, envolved in movie making, so that we save a little more data\n",
    "df_movies['prod_countries_cnt'] = df_movies['production_countries'].str.split(',').str.len()"
   ]
  },
  {
   "cell_type": "code",
   "execution_count": 20,
   "id": "dc8ee6ae",
   "metadata": {
    "execution": {
     "iopub.execute_input": "2023-11-12T12:45:39.455121Z",
     "iopub.status.busy": "2023-11-12T12:45:39.454671Z",
     "iopub.status.idle": "2023-11-12T12:45:39.463913Z",
     "shell.execute_reply": "2023-11-12T12:45:39.462386Z"
    },
    "papermill": {
     "duration": 0.050277,
     "end_time": "2023-11-12T12:45:39.466771",
     "exception": false,
     "start_time": "2023-11-12T12:45:39.416494",
     "status": "completed"
    },
    "tags": []
   },
   "outputs": [],
   "source": [
    "df_movies.lead_prod_country = df_movies.lead_prod_country.replace('', np.nan)"
   ]
  },
  {
   "cell_type": "code",
   "execution_count": 21,
   "id": "aa9c4d3e",
   "metadata": {
    "execution": {
     "iopub.execute_input": "2023-11-12T12:45:39.541852Z",
     "iopub.status.busy": "2023-11-12T12:45:39.541365Z",
     "iopub.status.idle": "2023-11-12T12:45:39.874910Z",
     "shell.execute_reply": "2023-11-12T12:45:39.873323Z"
    },
    "papermill": {
     "duration": 0.376094,
     "end_time": "2023-11-12T12:45:39.879130",
     "exception": false,
     "start_time": "2023-11-12T12:45:39.503036",
     "status": "completed"
    },
    "tags": []
   },
   "outputs": [
    {
     "data": {
      "image/png": "[encoded data removed]",
      "text/plain": [
       "<Figure size 720x432 with 1 Axes>"
      ]
     },
     "metadata": {
      "needs_background": "light"
     },
     "output_type": "display_data"
    }
   ],
   "source": [
    "bp_df = pd.DataFrame(df_movies.lead_prod_country.value_counts()).head(10)\n",
    "order = bp_df.index\n",
    "plt.figure(figsize=(10,6))\n",
    "plt.title('\\nTop 10 Countries by Amount of Movies\\n', fontsize=18)\n",
    "sns.countplot(y=df_movies.lead_prod_country, palette='PuRd_r', order=order)\n",
    "plt.xlabel('Movie Count')\n",
    "plt.ylabel('Country')\n",
    "plt.show()"
   ]
  },
  {
   "cell_type": "markdown",
   "id": "65ba25a0",
   "metadata": {
    "papermill": {
     "duration": 0.036192,
     "end_time": "2023-11-12T12:45:39.955027",
     "exception": false,
     "start_time": "2023-11-12T12:45:39.918835",
     "status": "completed"
    },
    "tags": []
   },
   "source": [
    "#### Similar transformations we'll perform for genre: unpacking the list and leaving one main genre."
   ]
  },
  {
   "cell_type": "code",
   "execution_count": 22,
   "id": "0e919abe",
   "metadata": {
    "execution": {
     "iopub.execute_input": "2023-11-12T12:45:40.032051Z",
     "iopub.status.busy": "2023-11-12T12:45:40.031584Z",
     "iopub.status.idle": "2023-11-12T12:45:40.135890Z",
     "shell.execute_reply": "2023-11-12T12:45:40.134749Z"
    },
    "papermill": {
     "duration": 0.14587,
     "end_time": "2023-11-12T12:45:40.138910",
     "exception": false,
     "start_time": "2023-11-12T12:45:39.993040",
     "status": "completed"
    },
    "tags": []
   },
   "outputs": [],
   "source": [
    "df_movies['genres'] = df_movies['genres'].str.replace(r\"[\", '').str.replace(r\"'\", '').str.replace(r\"]\", '')\n",
    "df_movies['main_genre'] = df_movies['genres'].str.split(',').str[0]"
   ]
  },
  {
   "cell_type": "code",
   "execution_count": 23,
   "id": "5ecbfd82",
   "metadata": {
    "execution": {
     "iopub.execute_input": "2023-11-12T12:45:40.221866Z",
     "iopub.status.busy": "2023-11-12T12:45:40.221390Z",
     "iopub.status.idle": "2023-11-12T12:45:40.239343Z",
     "shell.execute_reply": "2023-11-12T12:45:40.237931Z"
    },
    "papermill": {
     "duration": 0.063422,
     "end_time": "2023-11-12T12:45:40.242516",
     "exception": false,
     "start_time": "2023-11-12T12:45:40.179094",
     "status": "completed"
    },
    "tags": []
   },
   "outputs": [],
   "source": [
    "df_movies.drop(['genres', 'production_countries'], axis=1, inplace=True)"
   ]
  },
  {
   "cell_type": "markdown",
   "id": "bd6c6813",
   "metadata": {
    "papermill": {
     "duration": 0.036759,
     "end_time": "2023-11-12T12:45:40.316980",
     "exception": false,
     "start_time": "2023-11-12T12:45:40.280221",
     "status": "completed"
    },
    "tags": []
   },
   "source": [
    "#### Let's check out the result"
   ]
  },
  {
   "cell_type": "code",
   "execution_count": 24,
   "id": "a33f6909",
   "metadata": {
    "execution": {
     "iopub.execute_input": "2023-11-12T12:45:40.392126Z",
     "iopub.status.busy": "2023-11-12T12:45:40.391635Z",
     "iopub.status.idle": "2023-11-12T12:45:40.415130Z",
     "shell.execute_reply": "2023-11-12T12:45:40.414245Z"
    },
    "papermill": {
     "duration": 0.063885,
     "end_time": "2023-11-12T12:45:40.417543",
     "exception": false,
     "start_time": "2023-11-12T12:45:40.353658",
     "status": "completed"
    },
    "tags": []
   },
   "outputs": [
    {
     "data": {
      "text/html": [
       "<div>\n",
       "<style scoped>\n",
       "    .dataframe tbody tr th:only-of-type {\n",
       "        vertical-align: middle;\n",
       "    }\n",
       "\n",
       "    .dataframe tbody tr th {\n",
       "        vertical-align: top;\n",
       "    }\n",
       "\n",
       "    .dataframe thead th {\n",
       "        text-align: right;\n",
       "    }\n",
       "</style>\n",
       "<table border=\"1\" class=\"dataframe\">\n",
       "  <thead>\n",
       "    <tr style=\"text-align: right;\">\n",
       "      <th></th>\n",
       "      <th>id</th>\n",
       "      <th>title</th>\n",
       "      <th>type</th>\n",
       "      <th>release_year</th>\n",
       "      <th>runtime</th>\n",
       "      <th>seasons</th>\n",
       "      <th>imdb_id</th>\n",
       "      <th>imdb_score</th>\n",
       "      <th>imdb_votes</th>\n",
       "      <th>tmdb_popularity</th>\n",
       "      <th>tmdb_score</th>\n",
       "      <th>lead_prod_country</th>\n",
       "      <th>prod_countries_cnt</th>\n",
       "      <th>main_genre</th>\n",
       "    </tr>\n",
       "  </thead>\n",
       "  <tbody>\n",
       "    <tr>\n",
       "      <th>0</th>\n",
       "      <td>ts300399</td>\n",
       "      <td>Five Came Back: The Reference Films</td>\n",
       "      <td>SHOW</td>\n",
       "      <td>1945</td>\n",
       "      <td>51</td>\n",
       "      <td>1.0</td>\n",
       "      <td>NaN</td>\n",
       "      <td>NaN</td>\n",
       "      <td>NaN</td>\n",
       "      <td>0.600</td>\n",
       "      <td>NaN</td>\n",
       "      <td>US</td>\n",
       "      <td>1</td>\n",
       "      <td>documentation</td>\n",
       "    </tr>\n",
       "    <tr>\n",
       "      <th>1</th>\n",
       "      <td>tm84618</td>\n",
       "      <td>Taxi Driver</td>\n",
       "      <td>MOVIE</td>\n",
       "      <td>1976</td>\n",
       "      <td>114</td>\n",
       "      <td>NaN</td>\n",
       "      <td>tt0075314</td>\n",
       "      <td>8.2</td>\n",
       "      <td>808582.0</td>\n",
       "      <td>40.965</td>\n",
       "      <td>8.179</td>\n",
       "      <td>US</td>\n",
       "      <td>1</td>\n",
       "      <td>drama</td>\n",
       "    </tr>\n",
       "    <tr>\n",
       "      <th>2</th>\n",
       "      <td>tm154986</td>\n",
       "      <td>Deliverance</td>\n",
       "      <td>MOVIE</td>\n",
       "      <td>1972</td>\n",
       "      <td>109</td>\n",
       "      <td>NaN</td>\n",
       "      <td>tt0068473</td>\n",
       "      <td>7.7</td>\n",
       "      <td>107673.0</td>\n",
       "      <td>10.010</td>\n",
       "      <td>7.300</td>\n",
       "      <td>US</td>\n",
       "      <td>1</td>\n",
       "      <td>drama</td>\n",
       "    </tr>\n",
       "    <tr>\n",
       "      <th>3</th>\n",
       "      <td>tm127384</td>\n",
       "      <td>Monty Python and the Holy Grail</td>\n",
       "      <td>MOVIE</td>\n",
       "      <td>1975</td>\n",
       "      <td>91</td>\n",
       "      <td>NaN</td>\n",
       "      <td>tt0071853</td>\n",
       "      <td>8.2</td>\n",
       "      <td>534486.0</td>\n",
       "      <td>15.461</td>\n",
       "      <td>7.811</td>\n",
       "      <td>GB</td>\n",
       "      <td>1</td>\n",
       "      <td>fantasy</td>\n",
       "    </tr>\n",
       "    <tr>\n",
       "      <th>4</th>\n",
       "      <td>tm120801</td>\n",
       "      <td>The Dirty Dozen</td>\n",
       "      <td>MOVIE</td>\n",
       "      <td>1967</td>\n",
       "      <td>150</td>\n",
       "      <td>NaN</td>\n",
       "      <td>tt0061578</td>\n",
       "      <td>7.7</td>\n",
       "      <td>72662.0</td>\n",
       "      <td>20.398</td>\n",
       "      <td>7.600</td>\n",
       "      <td>GB</td>\n",
       "      <td>2</td>\n",
       "      <td>war</td>\n",
       "    </tr>\n",
       "  </tbody>\n",
       "</table>\n",
       "</div>"
      ],
      "text/plain": [
       "         id                                title   type  release_year  \\\n",
       "0  ts300399  Five Came Back: The Reference Films   SHOW          1945   \n",
       "1   tm84618                          Taxi Driver  MOVIE          1976   \n",
       "2  tm154986                          Deliverance  MOVIE          1972   \n",
       "3  tm127384      Monty Python and the Holy Grail  MOVIE          1975   \n",
       "4  tm120801                      The Dirty Dozen  MOVIE          1967   \n",
       "\n",
       "   runtime  seasons    imdb_id  imdb_score  imdb_votes  tmdb_popularity  \\\n",
       "0       51      1.0        NaN         NaN         NaN            0.600   \n",
       "1      114      NaN  tt0075314         8.2    808582.0           40.965   \n",
       "2      109      NaN  tt0068473         7.7    107673.0           10.010   \n",
       "3       91      NaN  tt0071853         8.2    534486.0           15.461   \n",
       "4      150      NaN  tt0061578         7.7     72662.0           20.398   \n",
       "\n",
       "   tmdb_score lead_prod_country  prod_countries_cnt     main_genre  \n",
       "0         NaN                US                   1  documentation  \n",
       "1       8.179                US                   1          drama  \n",
       "2       7.300                US                   1          drama  \n",
       "3       7.811                GB                   1        fantasy  \n",
       "4       7.600                GB                   2            war  "
      ]
     },
     "execution_count": 24,
     "metadata": {},
     "output_type": "execute_result"
    }
   ],
   "source": [
    "df_movies.head()"
   ]
  },
  {
   "cell_type": "code",
   "execution_count": 25,
   "id": "ee1eef9b",
   "metadata": {
    "execution": {
     "iopub.execute_input": "2023-11-12T12:45:40.496948Z",
     "iopub.status.busy": "2023-11-12T12:45:40.495799Z",
     "iopub.status.idle": "2023-11-12T12:45:40.509640Z",
     "shell.execute_reply": "2023-11-12T12:45:40.508305Z"
    },
    "papermill": {
     "duration": 0.057363,
     "end_time": "2023-11-12T12:45:40.512699",
     "exception": false,
     "start_time": "2023-11-12T12:45:40.455336",
     "status": "completed"
    },
    "tags": []
   },
   "outputs": [
    {
     "data": {
      "text/plain": [
       "array(['documentation', 'drama', 'fantasy', 'war', 'comedy', 'thriller',\n",
       "       'crime', 'romance', 'action', 'western', 'history', 'music',\n",
       "       'horror', 'scifi', 'animation', 'family', 'reality', '', 'sport',\n",
       "       'european'], dtype=object)"
      ]
     },
     "execution_count": 25,
     "metadata": {},
     "output_type": "execute_result"
    }
   ],
   "source": [
    "df_movies['main_genre'].unique()"
   ]
  },
  {
   "cell_type": "markdown",
   "id": "3e66da39",
   "metadata": {
    "papermill": {
     "duration": 0.039858,
     "end_time": "2023-11-12T12:45:40.592492",
     "exception": false,
     "start_time": "2023-11-12T12:45:40.552634",
     "status": "completed"
    },
    "tags": []
   },
   "source": [
    "#### After the transformation, the strings that contained missing values left us an empty genre.\n",
    "#### Let's fill it with NaN, in order to make it easier to deal with in the future."
   ]
  },
  {
   "cell_type": "code",
   "execution_count": 26,
   "id": "52e59831",
   "metadata": {
    "execution": {
     "iopub.execute_input": "2023-11-12T12:45:40.673780Z",
     "iopub.status.busy": "2023-11-12T12:45:40.673316Z",
     "iopub.status.idle": "2023-11-12T12:45:40.681923Z",
     "shell.execute_reply": "2023-11-12T12:45:40.680879Z"
    },
    "papermill": {
     "duration": 0.054047,
     "end_time": "2023-11-12T12:45:40.684543",
     "exception": false,
     "start_time": "2023-11-12T12:45:40.630496",
     "status": "completed"
    },
    "tags": []
   },
   "outputs": [],
   "source": [
    "df_movies.main_genre = df_movies.main_genre.replace('', np.nan)"
   ]
  },
  {
   "cell_type": "code",
   "execution_count": 27,
   "id": "859c7a64",
   "metadata": {
    "execution": {
     "iopub.execute_input": "2023-11-12T12:45:40.762173Z",
     "iopub.status.busy": "2023-11-12T12:45:40.761320Z",
     "iopub.status.idle": "2023-11-12T12:45:41.175422Z",
     "shell.execute_reply": "2023-11-12T12:45:41.174042Z"
    },
    "papermill": {
     "duration": 0.456273,
     "end_time": "2023-11-12T12:45:41.178593",
     "exception": false,
     "start_time": "2023-11-12T12:45:40.722320",
     "status": "completed"
    },
    "tags": []
   },
   "outputs": [
    {
     "data": {
      "image/png": "[encoded data removed]",
      "text/plain": [
       "<Figure size 720x432 with 1 Axes>"
      ]
     },
     "metadata": {
      "needs_background": "light"
     },
     "output_type": "display_data"
    }
   ],
   "source": [
    "bp_df = pd.DataFrame(df_movies.main_genre.value_counts())\n",
    "order = bp_df.index\n",
    "plt.figure(figsize=(10,6))\n",
    "plt.title('\\nAmount of Movies by Genre\\n', fontsize=18)\n",
    "sns.countplot(y=df_movies.main_genre, palette='PuRd_r', order=order)\n",
    "plt.xlabel('Movie Count')\n",
    "plt.ylabel('Genre')\n",
    "plt.show()"
   ]
  },
  {
   "cell_type": "markdown",
   "id": "1ff55f56",
   "metadata": {
    "papermill": {
     "duration": 0.038951,
     "end_time": "2023-11-12T12:45:41.255973",
     "exception": false,
     "start_time": "2023-11-12T12:45:41.217022",
     "status": "completed"
    },
    "tags": []
   },
   "source": [
    "### #7 seasons"
   ]
  },
  {
   "cell_type": "code",
   "execution_count": 28,
   "id": "eb0e599e",
   "metadata": {
    "execution": {
     "iopub.execute_input": "2023-11-12T12:45:41.335762Z",
     "iopub.status.busy": "2023-11-12T12:45:41.335239Z",
     "iopub.status.idle": "2023-11-12T12:45:41.360840Z",
     "shell.execute_reply": "2023-11-12T12:45:41.359621Z"
    },
    "papermill": {
     "duration": 0.069155,
     "end_time": "2023-11-12T12:45:41.364248",
     "exception": false,
     "start_time": "2023-11-12T12:45:41.295093",
     "status": "completed"
    },
    "tags": []
   },
   "outputs": [
    {
     "data": {
      "text/html": [
       "<div>\n",
       "<style scoped>\n",
       "    .dataframe tbody tr th:only-of-type {\n",
       "        vertical-align: middle;\n",
       "    }\n",
       "\n",
       "    .dataframe tbody tr th {\n",
       "        vertical-align: top;\n",
       "    }\n",
       "\n",
       "    .dataframe thead th {\n",
       "        text-align: right;\n",
       "    }\n",
       "</style>\n",
       "<table border=\"1\" class=\"dataframe\">\n",
       "  <thead>\n",
       "    <tr style=\"text-align: right;\">\n",
       "      <th></th>\n",
       "      <th>id</th>\n",
       "      <th>title</th>\n",
       "      <th>type</th>\n",
       "      <th>release_year</th>\n",
       "      <th>runtime</th>\n",
       "      <th>seasons</th>\n",
       "      <th>imdb_id</th>\n",
       "      <th>imdb_score</th>\n",
       "      <th>imdb_votes</th>\n",
       "      <th>tmdb_popularity</th>\n",
       "      <th>tmdb_score</th>\n",
       "      <th>lead_prod_country</th>\n",
       "      <th>prod_countries_cnt</th>\n",
       "      <th>main_genre</th>\n",
       "    </tr>\n",
       "  </thead>\n",
       "  <tbody>\n",
       "    <tr>\n",
       "      <th>0</th>\n",
       "      <td>ts300399</td>\n",
       "      <td>Five Came Back: The Reference Films</td>\n",
       "      <td>SHOW</td>\n",
       "      <td>1945</td>\n",
       "      <td>51</td>\n",
       "      <td>1.0</td>\n",
       "      <td>NaN</td>\n",
       "      <td>NaN</td>\n",
       "      <td>NaN</td>\n",
       "      <td>0.600</td>\n",
       "      <td>NaN</td>\n",
       "      <td>US</td>\n",
       "      <td>1</td>\n",
       "      <td>documentation</td>\n",
       "    </tr>\n",
       "    <tr>\n",
       "      <th>1</th>\n",
       "      <td>tm84618</td>\n",
       "      <td>Taxi Driver</td>\n",
       "      <td>MOVIE</td>\n",
       "      <td>1976</td>\n",
       "      <td>114</td>\n",
       "      <td>NaN</td>\n",
       "      <td>tt0075314</td>\n",
       "      <td>8.2</td>\n",
       "      <td>808582.0</td>\n",
       "      <td>40.965</td>\n",
       "      <td>8.179</td>\n",
       "      <td>US</td>\n",
       "      <td>1</td>\n",
       "      <td>drama</td>\n",
       "    </tr>\n",
       "    <tr>\n",
       "      <th>2</th>\n",
       "      <td>tm154986</td>\n",
       "      <td>Deliverance</td>\n",
       "      <td>MOVIE</td>\n",
       "      <td>1972</td>\n",
       "      <td>109</td>\n",
       "      <td>NaN</td>\n",
       "      <td>tt0068473</td>\n",
       "      <td>7.7</td>\n",
       "      <td>107673.0</td>\n",
       "      <td>10.010</td>\n",
       "      <td>7.300</td>\n",
       "      <td>US</td>\n",
       "      <td>1</td>\n",
       "      <td>drama</td>\n",
       "    </tr>\n",
       "    <tr>\n",
       "      <th>3</th>\n",
       "      <td>tm127384</td>\n",
       "      <td>Monty Python and the Holy Grail</td>\n",
       "      <td>MOVIE</td>\n",
       "      <td>1975</td>\n",
       "      <td>91</td>\n",
       "      <td>NaN</td>\n",
       "      <td>tt0071853</td>\n",
       "      <td>8.2</td>\n",
       "      <td>534486.0</td>\n",
       "      <td>15.461</td>\n",
       "      <td>7.811</td>\n",
       "      <td>GB</td>\n",
       "      <td>1</td>\n",
       "      <td>fantasy</td>\n",
       "    </tr>\n",
       "    <tr>\n",
       "      <th>4</th>\n",
       "      <td>tm120801</td>\n",
       "      <td>The Dirty Dozen</td>\n",
       "      <td>MOVIE</td>\n",
       "      <td>1967</td>\n",
       "      <td>150</td>\n",
       "      <td>NaN</td>\n",
       "      <td>tt0061578</td>\n",
       "      <td>7.7</td>\n",
       "      <td>72662.0</td>\n",
       "      <td>20.398</td>\n",
       "      <td>7.600</td>\n",
       "      <td>GB</td>\n",
       "      <td>2</td>\n",
       "      <td>war</td>\n",
       "    </tr>\n",
       "  </tbody>\n",
       "</table>\n",
       "</div>"
      ],
      "text/plain": [
       "         id                                title   type  release_year  \\\n",
       "0  ts300399  Five Came Back: The Reference Films   SHOW          1945   \n",
       "1   tm84618                          Taxi Driver  MOVIE          1976   \n",
       "2  tm154986                          Deliverance  MOVIE          1972   \n",
       "3  tm127384      Monty Python and the Holy Grail  MOVIE          1975   \n",
       "4  tm120801                      The Dirty Dozen  MOVIE          1967   \n",
       "\n",
       "   runtime  seasons    imdb_id  imdb_score  imdb_votes  tmdb_popularity  \\\n",
       "0       51      1.0        NaN         NaN         NaN            0.600   \n",
       "1      114      NaN  tt0075314         8.2    808582.0           40.965   \n",
       "2      109      NaN  tt0068473         7.7    107673.0           10.010   \n",
       "3       91      NaN  tt0071853         8.2    534486.0           15.461   \n",
       "4      150      NaN  tt0061578         7.7     72662.0           20.398   \n",
       "\n",
       "   tmdb_score lead_prod_country  prod_countries_cnt     main_genre  \n",
       "0         NaN                US                   1  documentation  \n",
       "1       8.179                US                   1          drama  \n",
       "2       7.300                US                   1          drama  \n",
       "3       7.811                GB                   1        fantasy  \n",
       "4       7.600                GB                   2            war  "
      ]
     },
     "execution_count": 28,
     "metadata": {},
     "output_type": "execute_result"
    }
   ],
   "source": [
    "df_movies.head()"
   ]
  },
  {
   "cell_type": "markdown",
   "id": "3a82e0d5",
   "metadata": {
    "papermill": {
     "duration": 0.037407,
     "end_time": "2023-11-12T12:45:41.440289",
     "exception": false,
     "start_time": "2023-11-12T12:45:41.402882",
     "status": "completed"
    },
    "tags": []
   },
   "source": [
    "#### As we see, variable seasons has so many NaN values, because movies do not have seasons. Let's put a 0 here."
   ]
  },
  {
   "cell_type": "code",
   "execution_count": 29,
   "id": "9a5dea9e",
   "metadata": {
    "execution": {
     "iopub.execute_input": "2023-11-12T12:45:41.520250Z",
     "iopub.status.busy": "2023-11-12T12:45:41.518724Z",
     "iopub.status.idle": "2023-11-12T12:45:41.534877Z",
     "shell.execute_reply": "2023-11-12T12:45:41.533803Z"
    },
    "papermill": {
     "duration": 0.059957,
     "end_time": "2023-11-12T12:45:41.537780",
     "exception": false,
     "start_time": "2023-11-12T12:45:41.477823",
     "status": "completed"
    },
    "tags": []
   },
   "outputs": [],
   "source": [
    "df_movies.loc[df_movies['type'] == 'MOVIE', ['seasons']] = 0"
   ]
  },
  {
   "cell_type": "markdown",
   "id": "ae851819",
   "metadata": {
    "papermill": {
     "duration": 0.039714,
     "end_time": "2023-11-12T12:45:41.617518",
     "exception": false,
     "start_time": "2023-11-12T12:45:41.577804",
     "status": "completed"
    },
    "tags": []
   },
   "source": [
    "<a id=\"3\"></a> <br>\n",
    "# Feature Engineering"
   ]
  },
  {
   "cell_type": "markdown",
   "id": "fc0bbd92",
   "metadata": {
    "papermill": {
     "duration": 0.038019,
     "end_time": "2023-11-12T12:45:41.695936",
     "exception": false,
     "start_time": "2023-11-12T12:45:41.657917",
     "status": "completed"
    },
    "tags": []
   },
   "source": [
    "#### Okay, seems like data is more or less clean. Now we're going to transform it for the future clusterisation models.\n"
   ]
  },
  {
   "cell_type": "code",
   "execution_count": 30,
   "id": "8dddd4ac",
   "metadata": {
    "execution": {
     "iopub.execute_input": "2023-11-12T12:45:41.775284Z",
     "iopub.status.busy": "2023-11-12T12:45:41.774571Z",
     "iopub.status.idle": "2023-11-12T12:45:41.798522Z",
     "shell.execute_reply": "2023-11-12T12:45:41.797276Z"
    },
    "papermill": {
     "duration": 0.066561,
     "end_time": "2023-11-12T12:45:41.801255",
     "exception": false,
     "start_time": "2023-11-12T12:45:41.734694",
     "status": "completed"
    },
    "tags": []
   },
   "outputs": [
    {
     "data": {
      "text/plain": [
       "id                       0\n",
       "title                    1\n",
       "type                     0\n",
       "release_year             0\n",
       "runtime                  0\n",
       "seasons                  0\n",
       "imdb_id               1394\n",
       "imdb_score            1873\n",
       "imdb_votes            1910\n",
       "tmdb_popularity        670\n",
       "tmdb_score            2656\n",
       "lead_prod_country     1160\n",
       "prod_countries_cnt       0\n",
       "main_genre             321\n",
       "dtype: int64"
      ]
     },
     "execution_count": 30,
     "metadata": {},
     "output_type": "execute_result"
    }
   ],
   "source": [
    "df_movies.isna().sum()"
   ]
  },
  {
   "cell_type": "markdown",
   "id": "83840a23",
   "metadata": {
    "papermill": {
     "duration": 0.038133,
     "end_time": "2023-11-12T12:45:41.877598",
     "exception": false,
     "start_time": "2023-11-12T12:45:41.839465",
     "status": "completed"
    },
    "tags": []
   },
   "source": [
    "#### And starting with getting rid of some NaN value that are still left in our dataset."
   ]
  },
  {
   "cell_type": "code",
   "execution_count": 31,
   "id": "89207726",
   "metadata": {
    "execution": {
     "iopub.execute_input": "2023-11-12T12:45:41.962850Z",
     "iopub.status.busy": "2023-11-12T12:45:41.962352Z",
     "iopub.status.idle": "2023-11-12T12:45:41.989792Z",
     "shell.execute_reply": "2023-11-12T12:45:41.988727Z"
    },
    "papermill": {
     "duration": 0.074733,
     "end_time": "2023-11-12T12:45:41.992656",
     "exception": false,
     "start_time": "2023-11-12T12:45:41.917923",
     "status": "completed"
    },
    "tags": []
   },
   "outputs": [],
   "source": [
    "df_movies.dropna(inplace=True)"
   ]
  },
  {
   "cell_type": "markdown",
   "id": "8fc3a3b8",
   "metadata": {
    "papermill": {
     "duration": 0.039972,
     "end_time": "2023-11-12T12:45:42.072319",
     "exception": false,
     "start_time": "2023-11-12T12:45:42.032347",
     "status": "completed"
    },
    "tags": []
   },
   "source": [
    "#### Also, set the name of the movie as an index"
   ]
  },
  {
   "cell_type": "code",
   "execution_count": 32,
   "id": "e3302502",
   "metadata": {
    "execution": {
     "iopub.execute_input": "2023-11-12T12:45:42.153163Z",
     "iopub.status.busy": "2023-11-12T12:45:42.152434Z",
     "iopub.status.idle": "2023-11-12T12:45:42.178203Z",
     "shell.execute_reply": "2023-11-12T12:45:42.176747Z"
    },
    "papermill": {
     "duration": 0.069887,
     "end_time": "2023-11-12T12:45:42.181357",
     "exception": false,
     "start_time": "2023-11-12T12:45:42.111470",
     "status": "completed"
    },
    "tags": []
   },
   "outputs": [
    {
     "data": {
      "text/html": [
       "<div>\n",
       "<style scoped>\n",
       "    .dataframe tbody tr th:only-of-type {\n",
       "        vertical-align: middle;\n",
       "    }\n",
       "\n",
       "    .dataframe tbody tr th {\n",
       "        vertical-align: top;\n",
       "    }\n",
       "\n",
       "    .dataframe thead th {\n",
       "        text-align: right;\n",
       "    }\n",
       "</style>\n",
       "<table border=\"1\" class=\"dataframe\">\n",
       "  <thead>\n",
       "    <tr style=\"text-align: right;\">\n",
       "      <th></th>\n",
       "      <th>id</th>\n",
       "      <th>type</th>\n",
       "      <th>release_year</th>\n",
       "      <th>runtime</th>\n",
       "      <th>seasons</th>\n",
       "      <th>imdb_id</th>\n",
       "      <th>imdb_score</th>\n",
       "      <th>imdb_votes</th>\n",
       "      <th>tmdb_popularity</th>\n",
       "      <th>tmdb_score</th>\n",
       "      <th>lead_prod_country</th>\n",
       "      <th>prod_countries_cnt</th>\n",
       "      <th>main_genre</th>\n",
       "    </tr>\n",
       "    <tr>\n",
       "      <th>title</th>\n",
       "      <th></th>\n",
       "      <th></th>\n",
       "      <th></th>\n",
       "      <th></th>\n",
       "      <th></th>\n",
       "      <th></th>\n",
       "      <th></th>\n",
       "      <th></th>\n",
       "      <th></th>\n",
       "      <th></th>\n",
       "      <th></th>\n",
       "      <th></th>\n",
       "      <th></th>\n",
       "    </tr>\n",
       "  </thead>\n",
       "  <tbody>\n",
       "    <tr>\n",
       "      <th>Taxi Driver</th>\n",
       "      <td>tm84618</td>\n",
       "      <td>MOVIE</td>\n",
       "      <td>1976</td>\n",
       "      <td>114</td>\n",
       "      <td>0.0</td>\n",
       "      <td>tt0075314</td>\n",
       "      <td>8.2</td>\n",
       "      <td>808582.0</td>\n",
       "      <td>40.965</td>\n",
       "      <td>8.179</td>\n",
       "      <td>US</td>\n",
       "      <td>1</td>\n",
       "      <td>drama</td>\n",
       "    </tr>\n",
       "    <tr>\n",
       "      <th>Deliverance</th>\n",
       "      <td>tm154986</td>\n",
       "      <td>MOVIE</td>\n",
       "      <td>1972</td>\n",
       "      <td>109</td>\n",
       "      <td>0.0</td>\n",
       "      <td>tt0068473</td>\n",
       "      <td>7.7</td>\n",
       "      <td>107673.0</td>\n",
       "      <td>10.010</td>\n",
       "      <td>7.300</td>\n",
       "      <td>US</td>\n",
       "      <td>1</td>\n",
       "      <td>drama</td>\n",
       "    </tr>\n",
       "    <tr>\n",
       "      <th>Monty Python and the Holy Grail</th>\n",
       "      <td>tm127384</td>\n",
       "      <td>MOVIE</td>\n",
       "      <td>1975</td>\n",
       "      <td>91</td>\n",
       "      <td>0.0</td>\n",
       "      <td>tt0071853</td>\n",
       "      <td>8.2</td>\n",
       "      <td>534486.0</td>\n",
       "      <td>15.461</td>\n",
       "      <td>7.811</td>\n",
       "      <td>GB</td>\n",
       "      <td>1</td>\n",
       "      <td>fantasy</td>\n",
       "    </tr>\n",
       "    <tr>\n",
       "      <th>The Dirty Dozen</th>\n",
       "      <td>tm120801</td>\n",
       "      <td>MOVIE</td>\n",
       "      <td>1967</td>\n",
       "      <td>150</td>\n",
       "      <td>0.0</td>\n",
       "      <td>tt0061578</td>\n",
       "      <td>7.7</td>\n",
       "      <td>72662.0</td>\n",
       "      <td>20.398</td>\n",
       "      <td>7.600</td>\n",
       "      <td>GB</td>\n",
       "      <td>2</td>\n",
       "      <td>war</td>\n",
       "    </tr>\n",
       "    <tr>\n",
       "      <th>Monty Python's Flying Circus</th>\n",
       "      <td>ts22164</td>\n",
       "      <td>SHOW</td>\n",
       "      <td>1969</td>\n",
       "      <td>30</td>\n",
       "      <td>4.0</td>\n",
       "      <td>tt0063929</td>\n",
       "      <td>8.8</td>\n",
       "      <td>73424.0</td>\n",
       "      <td>17.617</td>\n",
       "      <td>8.306</td>\n",
       "      <td>GB</td>\n",
       "      <td>1</td>\n",
       "      <td>comedy</td>\n",
       "    </tr>\n",
       "  </tbody>\n",
       "</table>\n",
       "</div>"
      ],
      "text/plain": [
       "                                       id   type  release_year  runtime  \\\n",
       "title                                                                     \n",
       "Taxi Driver                       tm84618  MOVIE          1976      114   \n",
       "Deliverance                      tm154986  MOVIE          1972      109   \n",
       "Monty Python and the Holy Grail  tm127384  MOVIE          1975       91   \n",
       "The Dirty Dozen                  tm120801  MOVIE          1967      150   \n",
       "Monty Python's Flying Circus      ts22164   SHOW          1969       30   \n",
       "\n",
       "                                 seasons    imdb_id  imdb_score  imdb_votes  \\\n",
       "title                                                                         \n",
       "Taxi Driver                          0.0  tt0075314         8.2    808582.0   \n",
       "Deliverance                          0.0  tt0068473         7.7    107673.0   \n",
       "Monty Python and the Holy Grail      0.0  tt0071853         8.2    534486.0   \n",
       "The Dirty Dozen                      0.0  tt0061578         7.7     72662.0   \n",
       "Monty Python's Flying Circus         4.0  tt0063929         8.8     73424.0   \n",
       "\n",
       "                                 tmdb_popularity  tmdb_score  \\\n",
       "title                                                          \n",
       "Taxi Driver                               40.965       8.179   \n",
       "Deliverance                               10.010       7.300   \n",
       "Monty Python and the Holy Grail           15.461       7.811   \n",
       "The Dirty Dozen                           20.398       7.600   \n",
       "Monty Python's Flying Circus              17.617       8.306   \n",
       "\n",
       "                                lead_prod_country  prod_countries_cnt  \\\n",
       "title                                                                   \n",
       "Taxi Driver                                    US                   1   \n",
       "Deliverance                                    US                   1   \n",
       "Monty Python and the Holy Grail                GB                   1   \n",
       "The Dirty Dozen                                GB                   2   \n",
       "Monty Python's Flying Circus                   GB                   1   \n",
       "\n",
       "                                main_genre  \n",
       "title                                       \n",
       "Taxi Driver                          drama  \n",
       "Deliverance                          drama  \n",
       "Monty Python and the Holy Grail    fantasy  \n",
       "The Dirty Dozen                        war  \n",
       "Monty Python's Flying Circus        comedy  "
      ]
     },
     "execution_count": 32,
     "metadata": {},
     "output_type": "execute_result"
    }
   ],
   "source": [
    "df_movies.set_index('title', inplace=True)\n",
    "df_movies.head()"
   ]
  },
  {
   "cell_type": "markdown",
   "id": "dadbd702",
   "metadata": {
    "papermill": {
     "duration": 0.039335,
     "end_time": "2023-11-12T12:45:42.263953",
     "exception": false,
     "start_time": "2023-11-12T12:45:42.224618",
     "status": "completed"
    },
    "tags": []
   },
   "source": [
    "#### Now let's drop variables that don't have any semantic load -- the ID of the movies and TV shows on different platforms."
   ]
  },
  {
   "cell_type": "code",
   "execution_count": 33,
   "id": "8947f405",
   "metadata": {
    "execution": {
     "iopub.execute_input": "2023-11-12T12:45:42.343633Z",
     "iopub.status.busy": "2023-11-12T12:45:42.342740Z",
     "iopub.status.idle": "2023-11-12T12:45:42.355751Z",
     "shell.execute_reply": "2023-11-12T12:45:42.354503Z"
    },
    "papermill": {
     "duration": 0.056352,
     "end_time": "2023-11-12T12:45:42.358983",
     "exception": false,
     "start_time": "2023-11-12T12:45:42.302631",
     "status": "completed"
    },
    "tags": []
   },
   "outputs": [],
   "source": [
    "df_movies.drop(['id', 'imdb_id'], axis=1, inplace=True)"
   ]
  },
  {
   "cell_type": "code",
   "execution_count": 34,
   "id": "c360e9c4",
   "metadata": {
    "execution": {
     "iopub.execute_input": "2023-11-12T12:45:42.448070Z",
     "iopub.status.busy": "2023-11-12T12:45:42.447578Z",
     "iopub.status.idle": "2023-11-12T12:45:42.458325Z",
     "shell.execute_reply": "2023-11-12T12:45:42.456710Z"
    },
    "papermill": {
     "duration": 0.060934,
     "end_time": "2023-11-12T12:45:42.461566",
     "exception": false,
     "start_time": "2023-11-12T12:45:42.400632",
     "status": "completed"
    },
    "tags": []
   },
   "outputs": [
    {
     "data": {
      "text/plain": [
       "type                   object\n",
       "release_year            int64\n",
       "runtime                 int64\n",
       "seasons               float64\n",
       "imdb_score            float64\n",
       "imdb_votes            float64\n",
       "tmdb_popularity       float64\n",
       "tmdb_score            float64\n",
       "lead_prod_country      object\n",
       "prod_countries_cnt      int64\n",
       "main_genre             object\n",
       "dtype: object"
      ]
     },
     "execution_count": 34,
     "metadata": {},
     "output_type": "execute_result"
    }
   ],
   "source": [
    "df_movies.dtypes"
   ]
  },
  {
   "cell_type": "markdown",
   "id": "69f8dd49",
   "metadata": {
    "papermill": {
     "duration": 0.03975,
     "end_time": "2023-11-12T12:45:42.543016",
     "exception": false,
     "start_time": "2023-11-12T12:45:42.503266",
     "status": "completed"
    },
    "tags": []
   },
   "source": [
    "#### For the three categorical variables that we have now, we create dummy variable -- to represent them as 1s and 0s"
   ]
  },
  {
   "cell_type": "code",
   "execution_count": 35,
   "id": "af545695",
   "metadata": {
    "execution": {
     "iopub.execute_input": "2023-11-12T12:45:42.624663Z",
     "iopub.status.busy": "2023-11-12T12:45:42.623797Z",
     "iopub.status.idle": "2023-11-12T12:45:42.687887Z",
     "shell.execute_reply": "2023-11-12T12:45:42.686223Z"
    },
    "papermill": {
     "duration": 0.107709,
     "end_time": "2023-11-12T12:45:42.691323",
     "exception": false,
     "start_time": "2023-11-12T12:45:42.583614",
     "status": "completed"
    },
    "tags": []
   },
   "outputs": [],
   "source": [
    "dummies = pd.get_dummies(df_movies[['type', 'lead_prod_country', 'main_genre']], drop_first=True)\n",
    "df_movies_dum = pd.concat([df_movies, dummies], axis=1)\n",
    "df_movies_dum.drop(['type', 'lead_prod_country', 'main_genre'], axis=1, inplace=True)"
   ]
  },
  {
   "cell_type": "markdown",
   "id": "87a6c3da",
   "metadata": {
    "papermill": {
     "duration": 0.038511,
     "end_time": "2023-11-12T12:45:42.773164",
     "exception": false,
     "start_time": "2023-11-12T12:45:42.734653",
     "status": "completed"
    },
    "tags": []
   },
   "source": [
    "#### Now rescale all the variables, so that they fit between 0 and 1"
   ]
  },
  {
   "cell_type": "code",
   "execution_count": 36,
   "id": "44114343",
   "metadata": {
    "execution": {
     "iopub.execute_input": "2023-11-12T12:45:42.852913Z",
     "iopub.status.busy": "2023-11-12T12:45:42.852470Z",
     "iopub.status.idle": "2023-11-12T12:45:43.445938Z",
     "shell.execute_reply": "2023-11-12T12:45:43.444460Z"
    },
    "papermill": {
     "duration": 0.637625,
     "end_time": "2023-11-12T12:45:43.449341",
     "exception": false,
     "start_time": "2023-11-12T12:45:42.811716",
     "status": "completed"
    },
    "tags": []
   },
   "outputs": [
    {
     "data": {
      "text/html": [
       "<div>\n",
       "<style scoped>\n",
       "    .dataframe tbody tr th:only-of-type {\n",
       "        vertical-align: middle;\n",
       "    }\n",
       "\n",
       "    .dataframe tbody tr th {\n",
       "        vertical-align: top;\n",
       "    }\n",
       "\n",
       "    .dataframe thead th {\n",
       "        text-align: right;\n",
       "    }\n",
       "</style>\n",
       "<table border=\"1\" class=\"dataframe\">\n",
       "  <thead>\n",
       "    <tr style=\"text-align: right;\">\n",
       "      <th></th>\n",
       "      <th>count</th>\n",
       "      <th>mean</th>\n",
       "      <th>std</th>\n",
       "      <th>min</th>\n",
       "      <th>25%</th>\n",
       "      <th>50%</th>\n",
       "      <th>75%</th>\n",
       "      <th>max</th>\n",
       "    </tr>\n",
       "  </thead>\n",
       "  <tbody>\n",
       "    <tr>\n",
       "      <th>release_year</th>\n",
       "      <td>14855.0</td>\n",
       "      <td>0.845746</td>\n",
       "      <td>0.205678</td>\n",
       "      <td>0.0</td>\n",
       "      <td>0.827273</td>\n",
       "      <td>0.936364</td>\n",
       "      <td>0.972727</td>\n",
       "      <td>1.0</td>\n",
       "    </tr>\n",
       "    <tr>\n",
       "      <th>runtime</th>\n",
       "      <td>14855.0</td>\n",
       "      <td>0.260577</td>\n",
       "      <td>0.106555</td>\n",
       "      <td>0.0</td>\n",
       "      <td>0.182927</td>\n",
       "      <td>0.274390</td>\n",
       "      <td>0.320122</td>\n",
       "      <td>1.0</td>\n",
       "    </tr>\n",
       "    <tr>\n",
       "      <th>seasons</th>\n",
       "      <td>14855.0</td>\n",
       "      <td>0.011753</td>\n",
       "      <td>0.039719</td>\n",
       "      <td>0.0</td>\n",
       "      <td>0.000000</td>\n",
       "      <td>0.000000</td>\n",
       "      <td>0.000000</td>\n",
       "      <td>1.0</td>\n",
       "    </tr>\n",
       "    <tr>\n",
       "      <th>imdb_score</th>\n",
       "      <td>14855.0</td>\n",
       "      <td>0.592880</td>\n",
       "      <td>0.143532</td>\n",
       "      <td>0.0</td>\n",
       "      <td>0.500000</td>\n",
       "      <td>0.602273</td>\n",
       "      <td>0.693182</td>\n",
       "      <td>1.0</td>\n",
       "    </tr>\n",
       "    <tr>\n",
       "      <th>imdb_votes</th>\n",
       "      <td>14855.0</td>\n",
       "      <td>0.010198</td>\n",
       "      <td>0.040940</td>\n",
       "      <td>0.0</td>\n",
       "      <td>0.000146</td>\n",
       "      <td>0.000653</td>\n",
       "      <td>0.003660</td>\n",
       "      <td>1.0</td>\n",
       "    </tr>\n",
       "    <tr>\n",
       "      <th>...</th>\n",
       "      <td>...</td>\n",
       "      <td>...</td>\n",
       "      <td>...</td>\n",
       "      <td>...</td>\n",
       "      <td>...</td>\n",
       "      <td>...</td>\n",
       "      <td>...</td>\n",
       "      <td>...</td>\n",
       "    </tr>\n",
       "    <tr>\n",
       "      <th>main_genre_scifi</th>\n",
       "      <td>14855.0</td>\n",
       "      <td>0.044362</td>\n",
       "      <td>0.205905</td>\n",
       "      <td>0.0</td>\n",
       "      <td>0.000000</td>\n",
       "      <td>0.000000</td>\n",
       "      <td>0.000000</td>\n",
       "      <td>1.0</td>\n",
       "    </tr>\n",
       "    <tr>\n",
       "      <th>main_genre_sport</th>\n",
       "      <td>14855.0</td>\n",
       "      <td>0.000808</td>\n",
       "      <td>0.028411</td>\n",
       "      <td>0.0</td>\n",
       "      <td>0.000000</td>\n",
       "      <td>0.000000</td>\n",
       "      <td>0.000000</td>\n",
       "      <td>1.0</td>\n",
       "    </tr>\n",
       "    <tr>\n",
       "      <th>main_genre_thriller</th>\n",
       "      <td>14855.0</td>\n",
       "      <td>0.100909</td>\n",
       "      <td>0.301218</td>\n",
       "      <td>0.0</td>\n",
       "      <td>0.000000</td>\n",
       "      <td>0.000000</td>\n",
       "      <td>0.000000</td>\n",
       "      <td>1.0</td>\n",
       "    </tr>\n",
       "    <tr>\n",
       "      <th>main_genre_war</th>\n",
       "      <td>14855.0</td>\n",
       "      <td>0.006328</td>\n",
       "      <td>0.079298</td>\n",
       "      <td>0.0</td>\n",
       "      <td>0.000000</td>\n",
       "      <td>0.000000</td>\n",
       "      <td>0.000000</td>\n",
       "      <td>1.0</td>\n",
       "    </tr>\n",
       "    <tr>\n",
       "      <th>main_genre_western</th>\n",
       "      <td>14855.0</td>\n",
       "      <td>0.022753</td>\n",
       "      <td>0.149121</td>\n",
       "      <td>0.0</td>\n",
       "      <td>0.000000</td>\n",
       "      <td>0.000000</td>\n",
       "      <td>0.000000</td>\n",
       "      <td>1.0</td>\n",
       "    </tr>\n",
       "  </tbody>\n",
       "</table>\n",
       "<p>146 rows × 8 columns</p>\n",
       "</div>"
      ],
      "text/plain": [
       "                       count      mean       std  min       25%       50%  \\\n",
       "release_year         14855.0  0.845746  0.205678  0.0  0.827273  0.936364   \n",
       "runtime              14855.0  0.260577  0.106555  0.0  0.182927  0.274390   \n",
       "seasons              14855.0  0.011753  0.039719  0.0  0.000000  0.000000   \n",
       "imdb_score           14855.0  0.592880  0.143532  0.0  0.500000  0.602273   \n",
       "imdb_votes           14855.0  0.010198  0.040940  0.0  0.000146  0.000653   \n",
       "...                      ...       ...       ...  ...       ...       ...   \n",
       "main_genre_scifi     14855.0  0.044362  0.205905  0.0  0.000000  0.000000   \n",
       "main_genre_sport     14855.0  0.000808  0.028411  0.0  0.000000  0.000000   \n",
       "main_genre_thriller  14855.0  0.100909  0.301218  0.0  0.000000  0.000000   \n",
       "main_genre_war       14855.0  0.006328  0.079298  0.0  0.000000  0.000000   \n",
       "main_genre_western   14855.0  0.022753  0.149121  0.0  0.000000  0.000000   \n",
       "\n",
       "                          75%  max  \n",
       "release_year         0.972727  1.0  \n",
       "runtime              0.320122  1.0  \n",
       "seasons              0.000000  1.0  \n",
       "imdb_score           0.693182  1.0  \n",
       "imdb_votes           0.003660  1.0  \n",
       "...                       ...  ...  \n",
       "main_genre_scifi     0.000000  1.0  \n",
       "main_genre_sport     0.000000  1.0  \n",
       "main_genre_thriller  0.000000  1.0  \n",
       "main_genre_war       0.000000  1.0  \n",
       "main_genre_western   0.000000  1.0  \n",
       "\n",
       "[146 rows x 8 columns]"
      ]
     },
     "execution_count": 36,
     "metadata": {},
     "output_type": "execute_result"
    }
   ],
   "source": [
    "scaler = MinMaxScaler()\n",
    "df_scaled = scaler.fit_transform(df_movies_dum)\n",
    "df_scaled = pd.DataFrame(df_scaled, columns=[df_movies_dum.columns])\n",
    "df_scaled.describe().T"
   ]
  },
  {
   "cell_type": "code",
   "execution_count": 37,
   "id": "ff93cf31",
   "metadata": {
    "execution": {
     "iopub.execute_input": "2023-11-12T12:45:43.534223Z",
     "iopub.status.busy": "2023-11-12T12:45:43.533749Z",
     "iopub.status.idle": "2023-11-12T12:45:43.542905Z",
     "shell.execute_reply": "2023-11-12T12:45:43.541405Z"
    },
    "papermill": {
     "duration": 0.055523,
     "end_time": "2023-11-12T12:45:43.546349",
     "exception": false,
     "start_time": "2023-11-12T12:45:43.490826",
     "status": "completed"
    },
    "tags": []
   },
   "outputs": [
    {
     "data": {
      "text/plain": [
       "(14855, 146)"
      ]
     },
     "execution_count": 37,
     "metadata": {},
     "output_type": "execute_result"
    }
   ],
   "source": [
    "df_scaled.shape"
   ]
  },
  {
   "cell_type": "markdown",
   "id": "935381ff",
   "metadata": {
    "papermill": {
     "duration": 0.043499,
     "end_time": "2023-11-12T12:45:43.633456",
     "exception": false,
     "start_time": "2023-11-12T12:45:43.589957",
     "status": "completed"
    },
    "tags": []
   },
   "source": [
    "#### After the encoding we've got 146 variables, which is a relatevely big number. Let's use principal component analysis and see, if we can reduce number of features without much quality loss."
   ]
  },
  {
   "cell_type": "code",
   "execution_count": 38,
   "id": "d54c39d4",
   "metadata": {
    "execution": {
     "iopub.execute_input": "2023-11-12T12:45:43.717094Z",
     "iopub.status.busy": "2023-11-12T12:45:43.716017Z",
     "iopub.status.idle": "2023-11-12T12:45:44.073708Z",
     "shell.execute_reply": "2023-11-12T12:45:44.070743Z"
    },
    "papermill": {
     "duration": 0.406956,
     "end_time": "2023-11-12T12:45:44.081111",
     "exception": false,
     "start_time": "2023-11-12T12:45:43.674155",
     "status": "completed"
    },
    "tags": []
   },
   "outputs": [],
   "source": [
    "from sklearn.decomposition import PCA\n",
    "\n",
    "pca = PCA(n_components=143, svd_solver='full')\n",
    "df_scaled_full = pca.fit(df_scaled).transform(df_scaled)\n",
    "\n",
    "explained_variance = np.round(np.cumsum(pca.explained_variance_ratio_),3)"
   ]
  },
  {
   "cell_type": "code",
   "execution_count": 39,
   "id": "4b2e0f44",
   "metadata": {
    "execution": {
     "iopub.execute_input": "2023-11-12T12:45:44.229706Z",
     "iopub.status.busy": "2023-11-12T12:45:44.229075Z",
     "iopub.status.idle": "2023-11-12T12:45:44.554802Z",
     "shell.execute_reply": "2023-11-12T12:45:44.553411Z"
    },
    "papermill": {
     "duration": 0.376277,
     "end_time": "2023-11-12T12:45:44.557847",
     "exception": false,
     "start_time": "2023-11-12T12:45:44.181570",
     "status": "completed"
    },
    "tags": []
   },
   "outputs": [
    {
     "data": {
      "image/png": "[encoded data removed]",
      "text/plain": [
       "<Figure size 720x432 with 1 Axes>"
      ]
     },
     "metadata": {
      "needs_background": "light"
     },
     "output_type": "display_data"
    }
   ],
   "source": [
    "plt.figure(figsize=(10,6))\n",
    "plt.title('\\nScree plot\\n', fontsize=18)\n",
    "plt.plot(np.arange(143), explained_variance, color='#D05C9C')\n",
    "plt.xlabel('Principal Component')\n",
    "plt.ylabel('Eigenvalues')\n",
    "plt.show()"
   ]
  },
  {
   "cell_type": "markdown",
   "id": "d159f14e",
   "metadata": {
    "papermill": {
     "duration": 0.041705,
     "end_time": "2023-11-12T12:45:44.641552",
     "exception": false,
     "start_time": "2023-11-12T12:45:44.599847",
     "status": "completed"
    },
    "tags": []
   },
   "source": [
    "#### As we can see from the scree plot, it will be absolutely safe to decrese number of variables to 60, without almost no quality loss."
   ]
  },
  {
   "cell_type": "code",
   "execution_count": 40,
   "id": "56d38cd6",
   "metadata": {
    "execution": {
     "iopub.execute_input": "2023-11-12T12:45:44.724258Z",
     "iopub.status.busy": "2023-11-12T12:45:44.723335Z",
     "iopub.status.idle": "2023-11-12T12:45:44.994242Z",
     "shell.execute_reply": "2023-11-12T12:45:44.992432Z"
    },
    "papermill": {
     "duration": 0.318831,
     "end_time": "2023-11-12T12:45:44.999909",
     "exception": false,
     "start_time": "2023-11-12T12:45:44.681078",
     "status": "completed"
    },
    "tags": []
   },
   "outputs": [],
   "source": [
    "pca_60 = PCA(n_components=60, svd_solver='full')\n",
    "df_scaled_60 = pca.fit(df_scaled).transform(df_scaled)"
   ]
  },
  {
   "cell_type": "markdown",
   "id": "927de98f",
   "metadata": {
    "papermill": {
     "duration": 0.042076,
     "end_time": "2023-11-12T12:45:45.147647",
     "exception": false,
     "start_time": "2023-11-12T12:45:45.105571",
     "status": "completed"
    },
    "tags": []
   },
   "source": [
    "#### And our data df_scaled_60 is all set up for clustering!"
   ]
  },
  {
   "cell_type": "markdown",
   "id": "bd3de088",
   "metadata": {
    "papermill": {
     "duration": 0.040672,
     "end_time": "2023-11-12T12:45:45.229822",
     "exception": false,
     "start_time": "2023-11-12T12:45:45.189150",
     "status": "completed"
    },
    "tags": []
   },
   "source": [
    "<a id=\"4\"></a> <br>\n",
    "# K-Means"
   ]
  },
  {
   "cell_type": "markdown",
   "id": "c92c2352",
   "metadata": {
    "papermill": {
     "duration": 0.040587,
     "end_time": "2023-11-12T12:45:45.311861",
     "exception": false,
     "start_time": "2023-11-12T12:45:45.271274",
     "status": "completed"
    },
    "tags": []
   },
   "source": [
    "#### To begin with, let's try a simple K-Means clustering model, and look at the elbow curve for the number of clusters from 10 to 80"
   ]
  },
  {
   "cell_type": "code",
   "execution_count": 41,
   "id": "1a7854bd",
   "metadata": {
    "execution": {
     "iopub.execute_input": "2023-11-12T12:45:45.398119Z",
     "iopub.status.busy": "2023-11-12T12:45:45.397634Z",
     "iopub.status.idle": "2023-11-12T12:50:53.896425Z",
     "shell.execute_reply": "2023-11-12T12:50:53.895221Z"
    },
    "papermill": {
     "duration": 308.547229,
     "end_time": "2023-11-12T12:50:53.900444",
     "exception": false,
     "start_time": "2023-11-12T12:45:45.353215",
     "status": "completed"
    },
    "tags": []
   },
   "outputs": [],
   "source": [
    "K = range(10, 80)\n",
    "models = [KMeans(n_clusters = k, random_state=8, max_iter = 10000).fit(df_scaled_60) for k in K]\n",
    "dist = [model.inertia_ for model in models]"
   ]
  },
  {
   "cell_type": "code",
   "execution_count": 42,
   "id": "e23ad3cd",
   "metadata": {
    "execution": {
     "iopub.execute_input": "2023-11-12T12:50:53.991383Z",
     "iopub.status.busy": "2023-11-12T12:50:53.990324Z",
     "iopub.status.idle": "2023-11-12T12:50:54.345151Z",
     "shell.execute_reply": "2023-11-12T12:50:54.344144Z"
    },
    "papermill": {
     "duration": 0.403423,
     "end_time": "2023-11-12T12:50:54.348031",
     "exception": false,
     "start_time": "2023-11-12T12:50:53.944608",
     "status": "completed"
    },
    "tags": []
   },
   "outputs": [
    {
     "data": {
      "image/png": "[encoded data removed]",
      "text/plain": [
       "<Figure size 1080x576 with 1 Axes>"
      ]
     },
     "metadata": {
      "needs_background": "light"
     },
     "output_type": "display_data"
    }
   ],
   "source": [
    "plt.figure(figsize=(15,8))\n",
    "plt.plot(K, dist, marker='o', color='#a30052')\n",
    "plt.xlabel('Number of clusters')\n",
    "plt.ylabel('Sum of squares of distances')\n",
    "plt.title('\\nElbow Curve\\n', fontsize=18)\n",
    "plt.show()"
   ]
  },
  {
   "cell_type": "markdown",
   "id": "4b0a79b2",
   "metadata": {
    "papermill": {
     "duration": 0.040842,
     "end_time": "2023-11-12T12:50:54.430138",
     "exception": false,
     "start_time": "2023-11-12T12:50:54.389296",
     "status": "completed"
    },
    "tags": []
   },
   "source": [
    "#### Looks like after about 40 clusters, the curve is more and more flat, and the markers are located closer to each other. So it makes sense to check the values in the range from 20 to 40."
   ]
  },
  {
   "cell_type": "code",
   "execution_count": 43,
   "id": "2f0d5dab",
   "metadata": {
    "execution": {
     "iopub.execute_input": "2023-11-12T12:50:54.516049Z",
     "iopub.status.busy": "2023-11-12T12:50:54.514794Z",
     "iopub.status.idle": "2023-11-12T12:51:31.371581Z",
     "shell.execute_reply": "2023-11-12T12:51:31.369600Z"
    },
    "papermill": {
     "duration": 36.94508,
     "end_time": "2023-11-12T12:51:31.416717",
     "exception": false,
     "start_time": "2023-11-12T12:50:54.471637",
     "status": "completed"
    },
    "tags": []
   },
   "outputs": [
    {
     "name": "stdout",
     "output_type": "stream",
     "text": [
      "For n_clusters = 20 The average silhouette_score is : 0.32575125772453783\n",
      "For n_clusters = 25 The average silhouette_score is : 0.3395747787705467\n",
      "For n_clusters = 30 The average silhouette_score is : 0.37160232628200984\n",
      "For n_clusters = 35 The average silhouette_score is : 0.3940827067955435\n",
      "For n_clusters = 40 The average silhouette_score is : 0.4114924956955015\n"
     ]
    }
   ],
   "source": [
    "range_n_clusters = range(20, 41, 5)\n",
    "for n_clusters in range_n_clusters:\n",
    "    \n",
    "    models1 = KMeans(n_clusters=n_clusters, random_state=8, max_iter=10000)\n",
    "    model_labels = models1.fit_predict(df_scaled_60)\n",
    "    \n",
    "    silhouette_avg = silhouette_score(df_scaled_60, model_labels)\n",
    "    print(\n",
    "        \"For n_clusters =\", n_clusters,\n",
    "        \"The average silhouette_score is :\", silhouette_avg)"
   ]
  },
  {
   "cell_type": "markdown",
   "id": "8e6b24fa",
   "metadata": {
    "papermill": {
     "duration": 0.043433,
     "end_time": "2023-11-12T12:51:31.503863",
     "exception": false,
     "start_time": "2023-11-12T12:51:31.460430",
     "status": "completed"
    },
    "tags": []
   },
   "source": [
    "#### The average silhouette score is very low, let's try to increase the number of clusters"
   ]
  },
  {
   "cell_type": "code",
   "execution_count": 44,
   "id": "501648bc",
   "metadata": {
    "execution": {
     "iopub.execute_input": "2023-11-12T12:51:31.595493Z",
     "iopub.status.busy": "2023-11-12T12:51:31.593789Z",
     "iopub.status.idle": "2023-11-12T12:51:59.050090Z",
     "shell.execute_reply": "2023-11-12T12:51:59.048049Z"
    },
    "papermill": {
     "duration": 27.505838,
     "end_time": "2023-11-12T12:51:59.053811",
     "exception": false,
     "start_time": "2023-11-12T12:51:31.547973",
     "status": "completed"
    },
    "tags": []
   },
   "outputs": [
    {
     "name": "stdout",
     "output_type": "stream",
     "text": [
      "For n_clusters = 150 The average silhouette_score is : 0.4983800824779699\n"
     ]
    }
   ],
   "source": [
    "models_150 = KMeans(n_clusters=150, random_state=8, max_iter = 10000)\n",
    "model_labels_150 = models_150.fit_predict(df_scaled_60)\n",
    "silhouette_avg_150 = silhouette_score(df_scaled_60, model_labels_150)\n",
    "print(\"For n_clusters =\", 150, \"The average silhouette_score is :\", silhouette_avg_150)"
   ]
  },
  {
   "cell_type": "code",
   "execution_count": 45,
   "id": "8d84558d",
   "metadata": {
    "execution": {
     "iopub.execute_input": "2023-11-12T12:51:59.142834Z",
     "iopub.status.busy": "2023-11-12T12:51:59.142345Z",
     "iopub.status.idle": "2023-11-12T12:52:45.813832Z",
     "shell.execute_reply": "2023-11-12T12:52:45.812282Z"
    },
    "papermill": {
     "duration": 46.760414,
     "end_time": "2023-11-12T12:52:45.858292",
     "exception": false,
     "start_time": "2023-11-12T12:51:59.097878",
     "status": "completed"
    },
    "tags": []
   },
   "outputs": [
    {
     "name": "stdout",
     "output_type": "stream",
     "text": [
      "For n_clusters = 300 The average silhouette_score is : 0.47274690924234397\n"
     ]
    }
   ],
   "source": [
    "models_300 = KMeans(n_clusters=300, random_state=8, max_iter = 10000)\n",
    "model_labels_300 = models_300.fit_predict(df_scaled_60)\n",
    "silhouette_avg_300 = silhouette_score(df_scaled_60, model_labels_300)\n",
    "print(\"For n_clusters =\", 300, \"The average silhouette_score is :\", silhouette_avg_300)"
   ]
  },
  {
   "cell_type": "markdown",
   "id": "af4efcad",
   "metadata": {
    "papermill": {
     "duration": 0.043585,
     "end_time": "2023-11-12T12:52:45.947695",
     "exception": false,
     "start_time": "2023-11-12T12:52:45.904110",
     "status": "completed"
    },
    "tags": []
   },
   "source": [
    "#### Well, K-Means shows a rather poor result: even splitting into 300 clusters doesn't give a good value of the silhouette coefficient, and even worse - value drops a little, if we keep increasing amount of clusters.\n",
    "#### Most likely, a more complex model will be suitable for our data."
   ]
  },
  {
   "cell_type": "markdown",
   "id": "66a83b02",
   "metadata": {
    "papermill": {
     "duration": 0.041846,
     "end_time": "2023-11-12T12:52:46.033206",
     "exception": false,
     "start_time": "2023-11-12T12:52:45.991360",
     "status": "completed"
    },
    "tags": []
   },
   "source": [
    "<a id=\"5\"></a> <br>\n",
    "# DBSCAN 10D"
   ]
  },
  {
   "cell_type": "code",
   "execution_count": 46,
   "id": "66f29d85",
   "metadata": {
    "execution": {
     "iopub.execute_input": "2023-11-12T12:52:46.119075Z",
     "iopub.status.busy": "2023-11-12T12:52:46.118567Z",
     "iopub.status.idle": "2023-11-12T12:52:46.486374Z",
     "shell.execute_reply": "2023-11-12T12:52:46.484484Z"
    },
    "papermill": {
     "duration": 0.416783,
     "end_time": "2023-11-12T12:52:46.491474",
     "exception": false,
     "start_time": "2023-11-12T12:52:46.074691",
     "status": "completed"
    },
    "tags": []
   },
   "outputs": [],
   "source": [
    "from sklearn.decomposition import PCA\n",
    "pca_10d = PCA(n_components=10)\n",
    "PCs_10d = pd.DataFrame(pca_10d.fit_transform(df_scaled_60))\n",
    "\n",
    "eps_array = [0.2, 0.5, 1]\n",
    "min_samples_array = [5, 10, 30]"
   ]
  },
  {
   "cell_type": "code",
   "execution_count": 47,
   "id": "f2681161",
   "metadata": {
    "execution": {
     "iopub.execute_input": "2023-11-12T12:52:46.622488Z",
     "iopub.status.busy": "2023-11-12T12:52:46.622015Z",
     "iopub.status.idle": "2023-11-12T12:53:17.582942Z",
     "shell.execute_reply": "2023-11-12T12:53:17.581525Z"
    },
    "papermill": {
     "duration": 31.00977,
     "end_time": "2023-11-12T12:53:17.587759",
     "exception": false,
     "start_time": "2023-11-12T12:52:46.577989",
     "status": "completed"
    },
    "tags": []
   },
   "outputs": [
    {
     "name": "stdout",
     "output_type": "stream",
     "text": [
      "For eps = 0.2 For min_samples = 5 Count clusters = 64 The average silhouette_score is : 0.7658621112988379\n",
      "For eps = 0.2 For min_samples = 10 Count clusters = 59 The average silhouette_score is : 0.7683124411968282\n",
      "For eps = 0.2 For min_samples = 30 Count clusters = 49 The average silhouette_score is : 0.7622294269402919\n",
      "For eps = 0.5 For min_samples = 5 Count clusters = 49 The average silhouette_score is : 0.7503086554305867\n",
      "For eps = 0.5 For min_samples = 10 Count clusters = 47 The average silhouette_score is : 0.749075109866969\n",
      "For eps = 0.5 For min_samples = 30 Count clusters = 39 The average silhouette_score is : 0.7401468871485598\n"
     ]
    }
   ],
   "source": [
    "for eps in eps_array:\n",
    "  for min_samples in min_samples_array:\n",
    "    clusterer = DBSCAN(eps=eps, min_samples=min_samples).fit(PCs_10d)\n",
    "    cluster_labels = clusterer.labels_\n",
    "    if len(set(cluster_labels)) == 1:\n",
    "        continue\n",
    "    silhouette_avg = silhouette_score(PCs_10d, cluster_labels)\n",
    "    print(\"For eps =\", eps,\n",
    "          \"For min_samples =\", min_samples,\n",
    "          \"Count clusters =\", len(set(cluster_labels)),\n",
    "          \"The average silhouette_score is :\", silhouette_avg)"
   ]
  },
  {
   "cell_type": "code",
   "execution_count": 48,
   "id": "f8424f46",
   "metadata": {
    "execution": {
     "iopub.execute_input": "2023-11-12T12:53:17.677025Z",
     "iopub.status.busy": "2023-11-12T12:53:17.676539Z",
     "iopub.status.idle": "2023-11-12T12:53:21.212786Z",
     "shell.execute_reply": "2023-11-12T12:53:21.210744Z"
    },
    "papermill": {
     "duration": 3.584583,
     "end_time": "2023-11-12T12:53:21.215876",
     "exception": false,
     "start_time": "2023-11-12T12:53:17.631293",
     "status": "completed"
    },
    "tags": []
   },
   "outputs": [
    {
     "name": "stdout",
     "output_type": "stream",
     "text": [
      "For eps = 0.2 For min_samples = 10 Count clusters = 59 The average silhouette_score is : 0.7683124411968282\n"
     ]
    }
   ],
   "source": [
    "dbscan10d_model = DBSCAN(eps=0.2, min_samples=10).fit(PCs_10d)\n",
    "print(\"For eps =\", 0.2,\n",
    "      \"For min_samples =\", 10,\n",
    "      \"Count clusters =\", len(set(dbscan10d_model.labels_)),\n",
    "      \"The average silhouette_score is :\", silhouette_score(PCs_10d, dbscan10d_model.labels_))"
   ]
  },
  {
   "cell_type": "markdown",
   "id": "5fdc2948",
   "metadata": {
    "papermill": {
     "duration": 0.043387,
     "end_time": "2023-11-12T12:53:21.304309",
     "exception": false,
     "start_time": "2023-11-12T12:53:21.260922",
     "status": "completed"
    },
    "tags": []
   },
   "source": [
    "#### 10 Dimentions DBSCAN shows an acceptable score of 0.768. Guess, we can work with that.\n",
    "#### Let's put the clustering results in the initial movies table."
   ]
  },
  {
   "cell_type": "code",
   "execution_count": 49,
   "id": "03689501",
   "metadata": {
    "execution": {
     "iopub.execute_input": "2023-11-12T12:53:21.392876Z",
     "iopub.status.busy": "2023-11-12T12:53:21.392376Z",
     "iopub.status.idle": "2023-11-12T12:53:21.399547Z",
     "shell.execute_reply": "2023-11-12T12:53:21.398098Z"
    },
    "papermill": {
     "duration": 0.055568,
     "end_time": "2023-11-12T12:53:21.402602",
     "exception": false,
     "start_time": "2023-11-12T12:53:21.347034",
     "status": "completed"
    },
    "tags": []
   },
   "outputs": [],
   "source": [
    "df_movies[f'{i}_clusters'] = dbscan10d_model.labels_"
   ]
  },
  {
   "cell_type": "markdown",
   "id": "32e4c4be",
   "metadata": {
    "papermill": {
     "duration": 0.041403,
     "end_time": "2023-11-12T12:53:21.486952",
     "exception": false,
     "start_time": "2023-11-12T12:53:21.445549",
     "status": "completed"
    },
    "tags": []
   },
   "source": [
    "<a id=\"6\"></a> <br>\n",
    "# Movie Recommendation Function"
   ]
  },
  {
   "cell_type": "markdown",
   "id": "ba6631f0",
   "metadata": {
    "papermill": {
     "duration": 0.043871,
     "end_time": "2023-11-12T12:53:21.573826",
     "exception": false,
     "start_time": "2023-11-12T12:53:21.529955",
     "status": "completed"
    },
    "tags": []
   },
   "source": [
    "#### Our data is ready to use the clustering results to try and recommend a movie by the name of the one you like"
   ]
  },
  {
   "cell_type": "code",
   "execution_count": 50,
   "id": "d531e5aa",
   "metadata": {
    "execution": {
     "iopub.execute_input": "2023-11-12T12:53:21.663565Z",
     "iopub.status.busy": "2023-11-12T12:53:21.662791Z",
     "iopub.status.idle": "2023-11-12T12:53:21.671747Z",
     "shell.execute_reply": "2023-11-12T12:53:21.670623Z"
    },
    "papermill": {
     "duration": 0.05556,
     "end_time": "2023-11-12T12:53:21.674587",
     "exception": false,
     "start_time": "2023-11-12T12:53:21.619027",
     "status": "completed"
    },
    "tags": []
   },
   "outputs": [],
   "source": [
    "def recommend_movie(movie_name: str):\n",
    "  \n",
    "  # Define cluster of the input movie\n",
    "  movie_name = movie_name.lower()\n",
    "  df_movies['name'] = df_movies.index.str.lower()\n",
    "  movie = df_movies[df_movies.name.str.contains('dozen') == True] \n",
    "  cluster = movie['225635_clusters'][0]\n",
    "  \n",
    "  # Get all the movies of the same cluster \n",
    "  cluster_movies = df_movies[df_movies['225635_clusters']==cluster]\n",
    "  \n",
    "  # Get 5 random movies of the same cluster\n",
    "  import random\n",
    "  all_movies = list(cluster_movies.index)\n",
    "  recommended_movies = random.sample(all_movies, 5)\n",
    "  for m in recommended_movies:\n",
    "    print(m)"
   ]
  },
  {
   "cell_type": "markdown",
   "id": "228ece50",
   "metadata": {
    "papermill": {
     "duration": 0.043976,
     "end_time": "2023-11-12T12:53:21.760911",
     "exception": false,
     "start_time": "2023-11-12T12:53:21.716935",
     "status": "completed"
    },
    "tags": []
   },
   "source": [
    "### 🎉 Now we can input a random movie name and get 5 movies that our model recommends"
   ]
  },
  {
   "cell_type": "code",
   "execution_count": 51,
   "id": "a654f3b1",
   "metadata": {
    "execution": {
     "iopub.execute_input": "2023-11-12T12:53:21.847643Z",
     "iopub.status.busy": "2023-11-12T12:53:21.846807Z",
     "iopub.status.idle": "2023-11-12T12:53:21.886027Z",
     "shell.execute_reply": "2023-11-12T12:53:21.884444Z"
    },
    "papermill": {
     "duration": 0.08588,
     "end_time": "2023-11-12T12:53:21.888856",
     "exception": false,
     "start_time": "2023-11-12T12:53:21.802976",
     "status": "completed"
    },
    "tags": []
   },
   "outputs": [
    {
     "name": "stdout",
     "output_type": "stream",
     "text": [
      "--- We can recommend you these movies ---\n",
      "Khartoum\n",
      "The Haunting of Borley Rectory\n",
      "Alan Partridge: Alpha Papa\n",
      "The Return of Bulldog Drummond\n",
      "Break\n"
     ]
    }
   ],
   "source": [
    "import sys\n",
    "\n",
    "if len(sys.argv) > 1:\n",
    "    s = sys.argv[1]\n",
    "    print('--- We can recommend you these movies ---')\n",
    "    recommend_movie(s)\n",
    "else:\n",
    "    print('Please provide a movie name as a command-line argument.')"
   ]
  },
  {
   "cell_type": "code",
   "execution_count": null,
   "id": "00e193b2",
   "metadata": {
    "papermill": {
     "duration": 0.043722,
     "end_time": "2023-11-12T12:53:21.975534",
     "exception": false,
     "start_time": "2023-11-12T12:53:21.931812",
     "status": "completed"
    },
    "tags": []
   },
   "outputs": [],
   "source": []
  }
 ],
 "metadata": {
  "kernelspec": {
   "display_name": "Python 3",
   "language": "python",
   "name": "python3"
  },
  "language_info": {
   "codemirror_mode": {
    "name": "ipython",
    "version": 3
   },
   "file_extension": ".py",
   "mimetype": "text/x-python",
   "name": "python",
   "nbconvert_exporter": "python",
   "pygments_lexer": "ipython3",
   "version": "3.7.12"
  },
  "papermill": {
   "default_parameters": {},
   "duration": 486.12864,
   "end_time": "2023-11-12T12:53:23.046265",
   "environment_variables": {},
   "exception": null,
   "input_path": "__notebook__.ipynb",
   "output_path": "__notebook__.ipynb",
   "parameters": {},
   "start_time": "2023-11-12T12:45:16.917625",
   "version": "2.3.4"
  }
 },
 "nbformat": 4,
 "nbformat_minor": 5
}
